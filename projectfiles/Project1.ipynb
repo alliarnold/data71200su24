{
  "nbformat": 4,
  "nbformat_minor": 0,
  "metadata": {
    "colab": {
      "provenance": [],
      "authorship_tag": "ABX9TyN5gzdtpS9yDrP8Gt7Elcau",
      "include_colab_link": true
    },
    "kernelspec": {
      "name": "python3",
      "display_name": "Python 3"
    },
    "language_info": {
      "name": "python"
    }
  },
  "cells": [
    {
      "cell_type": "markdown",
      "metadata": {
        "id": "view-in-github",
        "colab_type": "text"
      },
      "source": [
        "<a href=\"https://colab.research.google.com/github/alliarnold/data71200su24/blob/allibranch/projectfiles/Project1.ipynb\" target=\"_parent\"><img src=\"https://colab.research.google.com/assets/colab-badge.svg\" alt=\"Open In Colab\"/></a>"
      ]
    },
    {
      "cell_type": "markdown",
      "source": [
        "# Project 1\n",
        "\n",
        "### Step 1: Select Data Source\n",
        "\n",
        "**Source:** Open Data NYC--Hyperlocal Temperature Monitoring\\\n",
        "**Filtering:** Just Brooklyn 2019 dataset\\\n",
        "**About:** The filtered data includes features for temperature, hour of the day [0-23], date, lat, long, source [street light monitor or tree monitor]. I am also adding a calculated column for heat safety warning based on the temperature column.\\\n",
        "**Source URL:** [Access filtered link here.](https://data.cityofnewyork.us/dataset/Hyperlocal-Temperature-Monitoring/qdq3-9eqn/explore/query/SELECT%20%60airtemp%60%2C%20%60day%60%2C%20%60hour%60%2C%20%60latitude%60%2C%20%60longitude%60%2C%20%60install_type%60%0AWHERE%0A%20%20caseless_one_of%28%60year%60%2C%20%222019%22%29%0A%20%20AND%20caseless_one_of%28%60borough%60%2C%20%22Brooklyn%22%29/page/filter)\\\n",
        "**Github Source:** Due to the size of the data set, it is saved in two csv files the project folder of my Github branch.\n"
      ],
      "metadata": {
        "id": "-4wne2P7k03x"
      }
    },
    {
      "cell_type": "code",
      "source": [
        "import numpy as np\n",
        "import pandas as pd\n",
        "from pandas.plotting import scatter_matrix"
      ],
      "metadata": {
        "id": "nXF0yUCZmz2A"
      },
      "execution_count": 1,
      "outputs": []
    },
    {
      "cell_type": "code",
      "source": [
        "!pip install -U scikit-learn==1.4"
      ],
      "metadata": {
        "colab": {
          "base_uri": "https://localhost:8080/"
        },
        "id": "aoNlXBqbdxRj",
        "outputId": "4a9c32e8-c7d0-4d30-938b-a37a7532b147"
      },
      "execution_count": 2,
      "outputs": [
        {
          "output_type": "stream",
          "name": "stdout",
          "text": [
            "Collecting scikit-learn==1.4\n",
            "  Downloading scikit_learn-1.4.0-1-cp310-cp310-manylinux_2_17_x86_64.manylinux2014_x86_64.whl (12.1 MB)\n",
            "\u001b[2K     \u001b[90m━━━━━━━━━━━━━━━━━━━━━━━━━━━━━━━━━━━━━━━━\u001b[0m \u001b[32m12.1/12.1 MB\u001b[0m \u001b[31m15.9 MB/s\u001b[0m eta \u001b[36m0:00:00\u001b[0m\n",
            "\u001b[?25hRequirement already satisfied: numpy<2.0,>=1.19.5 in /usr/local/lib/python3.10/dist-packages (from scikit-learn==1.4) (1.25.2)\n",
            "Requirement already satisfied: scipy>=1.6.0 in /usr/local/lib/python3.10/dist-packages (from scikit-learn==1.4) (1.11.4)\n",
            "Requirement already satisfied: joblib>=1.2.0 in /usr/local/lib/python3.10/dist-packages (from scikit-learn==1.4) (1.4.2)\n",
            "Requirement already satisfied: threadpoolctl>=2.0.0 in /usr/local/lib/python3.10/dist-packages (from scikit-learn==1.4) (3.5.0)\n",
            "Installing collected packages: scikit-learn\n",
            "  Attempting uninstall: scikit-learn\n",
            "    Found existing installation: scikit-learn 1.2.2\n",
            "    Uninstalling scikit-learn-1.2.2:\n",
            "      Successfully uninstalled scikit-learn-1.2.2\n",
            "Successfully installed scikit-learn-1.4.0\n"
          ]
        }
      ]
    },
    {
      "cell_type": "code",
      "source": [
        "from google.colab import drive\n",
        "drive.mount('/content/drive')"
      ],
      "metadata": {
        "colab": {
          "base_uri": "https://localhost:8080/"
        },
        "id": "G9WqBACWn8Cc",
        "outputId": "01dd9922-cd11-420f-e0e1-0b349be6d288"
      },
      "execution_count": 3,
      "outputs": [
        {
          "output_type": "stream",
          "name": "stdout",
          "text": [
            "Mounted at /content/drive\n"
          ]
        }
      ]
    },
    {
      "cell_type": "markdown",
      "source": [
        "I made sure to use \"parse-dates\" when creating the dataframes on the \"Day\" column to make sure the correct datatype was set."
      ],
      "metadata": {
        "id": "__gOHKdOdjac"
      }
    },
    {
      "cell_type": "code",
      "source": [
        "df1 = pd.read_csv('/content/drive/My Drive/GC-CUNY/2024_Summer/BK2-019-Temp-Monitor-pt1.csv', parse_dates=[1])"
      ],
      "metadata": {
        "id": "dgAUzhUbpA9X"
      },
      "execution_count": 4,
      "outputs": []
    },
    {
      "cell_type": "code",
      "source": [
        "df2 = pd.read_csv('/content/drive/My Drive/GC-CUNY/2024_Summer/BK2-019-Temp-Monitor-pt2.csv', parse_dates=[1])"
      ],
      "metadata": {
        "id": "k5NtlWM4qEJF"
      },
      "execution_count": 5,
      "outputs": []
    },
    {
      "cell_type": "code",
      "source": [
        "tempdf = pd.concat([df1, df2])"
      ],
      "metadata": {
        "id": "_7X3O3W-qL85"
      },
      "execution_count": 6,
      "outputs": []
    },
    {
      "cell_type": "code",
      "source": [
        "tempdf.head()"
      ],
      "metadata": {
        "colab": {
          "base_uri": "https://localhost:8080/",
          "height": 206
        },
        "id": "4Xvg9xuErQOq",
        "outputId": "04a09749-fe10-4ad3-aafc-e3e345550ecb"
      },
      "execution_count": 7,
      "outputs": [
        {
          "output_type": "execute_result",
          "data": {
            "text/plain": [
              "     AirTemp        Day  Hour   Latitude  Longitude Install.Type\n",
              "0  73.942167 2019-08-09     7  40.666205  -73.91691  Street Tree\n",
              "1  76.666333 2019-08-09     8  40.666205  -73.91691  Street Tree\n",
              "2  78.691333 2019-08-09     9  40.666205  -73.91691  Street Tree\n",
              "3  81.472500 2019-08-09    10  40.666205  -73.91691  Street Tree\n",
              "4  83.571667 2019-08-09    11  40.666205  -73.91691  Street Tree"
            ],
            "text/html": [
              "\n",
              "  <div id=\"df-886a5b06-89ba-45ab-90e8-29862b4d59e0\" class=\"colab-df-container\">\n",
              "    <div>\n",
              "<style scoped>\n",
              "    .dataframe tbody tr th:only-of-type {\n",
              "        vertical-align: middle;\n",
              "    }\n",
              "\n",
              "    .dataframe tbody tr th {\n",
              "        vertical-align: top;\n",
              "    }\n",
              "\n",
              "    .dataframe thead th {\n",
              "        text-align: right;\n",
              "    }\n",
              "</style>\n",
              "<table border=\"1\" class=\"dataframe\">\n",
              "  <thead>\n",
              "    <tr style=\"text-align: right;\">\n",
              "      <th></th>\n",
              "      <th>AirTemp</th>\n",
              "      <th>Day</th>\n",
              "      <th>Hour</th>\n",
              "      <th>Latitude</th>\n",
              "      <th>Longitude</th>\n",
              "      <th>Install.Type</th>\n",
              "    </tr>\n",
              "  </thead>\n",
              "  <tbody>\n",
              "    <tr>\n",
              "      <th>0</th>\n",
              "      <td>73.942167</td>\n",
              "      <td>2019-08-09</td>\n",
              "      <td>7</td>\n",
              "      <td>40.666205</td>\n",
              "      <td>-73.91691</td>\n",
              "      <td>Street Tree</td>\n",
              "    </tr>\n",
              "    <tr>\n",
              "      <th>1</th>\n",
              "      <td>76.666333</td>\n",
              "      <td>2019-08-09</td>\n",
              "      <td>8</td>\n",
              "      <td>40.666205</td>\n",
              "      <td>-73.91691</td>\n",
              "      <td>Street Tree</td>\n",
              "    </tr>\n",
              "    <tr>\n",
              "      <th>2</th>\n",
              "      <td>78.691333</td>\n",
              "      <td>2019-08-09</td>\n",
              "      <td>9</td>\n",
              "      <td>40.666205</td>\n",
              "      <td>-73.91691</td>\n",
              "      <td>Street Tree</td>\n",
              "    </tr>\n",
              "    <tr>\n",
              "      <th>3</th>\n",
              "      <td>81.472500</td>\n",
              "      <td>2019-08-09</td>\n",
              "      <td>10</td>\n",
              "      <td>40.666205</td>\n",
              "      <td>-73.91691</td>\n",
              "      <td>Street Tree</td>\n",
              "    </tr>\n",
              "    <tr>\n",
              "      <th>4</th>\n",
              "      <td>83.571667</td>\n",
              "      <td>2019-08-09</td>\n",
              "      <td>11</td>\n",
              "      <td>40.666205</td>\n",
              "      <td>-73.91691</td>\n",
              "      <td>Street Tree</td>\n",
              "    </tr>\n",
              "  </tbody>\n",
              "</table>\n",
              "</div>\n",
              "    <div class=\"colab-df-buttons\">\n",
              "\n",
              "  <div class=\"colab-df-container\">\n",
              "    <button class=\"colab-df-convert\" onclick=\"convertToInteractive('df-886a5b06-89ba-45ab-90e8-29862b4d59e0')\"\n",
              "            title=\"Convert this dataframe to an interactive table.\"\n",
              "            style=\"display:none;\">\n",
              "\n",
              "  <svg xmlns=\"http://www.w3.org/2000/svg\" height=\"24px\" viewBox=\"0 -960 960 960\">\n",
              "    <path d=\"M120-120v-720h720v720H120Zm60-500h600v-160H180v160Zm220 220h160v-160H400v160Zm0 220h160v-160H400v160ZM180-400h160v-160H180v160Zm440 0h160v-160H620v160ZM180-180h160v-160H180v160Zm440 0h160v-160H620v160Z\"/>\n",
              "  </svg>\n",
              "    </button>\n",
              "\n",
              "  <style>\n",
              "    .colab-df-container {\n",
              "      display:flex;\n",
              "      gap: 12px;\n",
              "    }\n",
              "\n",
              "    .colab-df-convert {\n",
              "      background-color: #E8F0FE;\n",
              "      border: none;\n",
              "      border-radius: 50%;\n",
              "      cursor: pointer;\n",
              "      display: none;\n",
              "      fill: #1967D2;\n",
              "      height: 32px;\n",
              "      padding: 0 0 0 0;\n",
              "      width: 32px;\n",
              "    }\n",
              "\n",
              "    .colab-df-convert:hover {\n",
              "      background-color: #E2EBFA;\n",
              "      box-shadow: 0px 1px 2px rgba(60, 64, 67, 0.3), 0px 1px 3px 1px rgba(60, 64, 67, 0.15);\n",
              "      fill: #174EA6;\n",
              "    }\n",
              "\n",
              "    .colab-df-buttons div {\n",
              "      margin-bottom: 4px;\n",
              "    }\n",
              "\n",
              "    [theme=dark] .colab-df-convert {\n",
              "      background-color: #3B4455;\n",
              "      fill: #D2E3FC;\n",
              "    }\n",
              "\n",
              "    [theme=dark] .colab-df-convert:hover {\n",
              "      background-color: #434B5C;\n",
              "      box-shadow: 0px 1px 3px 1px rgba(0, 0, 0, 0.15);\n",
              "      filter: drop-shadow(0px 1px 2px rgba(0, 0, 0, 0.3));\n",
              "      fill: #FFFFFF;\n",
              "    }\n",
              "  </style>\n",
              "\n",
              "    <script>\n",
              "      const buttonEl =\n",
              "        document.querySelector('#df-886a5b06-89ba-45ab-90e8-29862b4d59e0 button.colab-df-convert');\n",
              "      buttonEl.style.display =\n",
              "        google.colab.kernel.accessAllowed ? 'block' : 'none';\n",
              "\n",
              "      async function convertToInteractive(key) {\n",
              "        const element = document.querySelector('#df-886a5b06-89ba-45ab-90e8-29862b4d59e0');\n",
              "        const dataTable =\n",
              "          await google.colab.kernel.invokeFunction('convertToInteractive',\n",
              "                                                    [key], {});\n",
              "        if (!dataTable) return;\n",
              "\n",
              "        const docLinkHtml = 'Like what you see? Visit the ' +\n",
              "          '<a target=\"_blank\" href=https://colab.research.google.com/notebooks/data_table.ipynb>data table notebook</a>'\n",
              "          + ' to learn more about interactive tables.';\n",
              "        element.innerHTML = '';\n",
              "        dataTable['output_type'] = 'display_data';\n",
              "        await google.colab.output.renderOutput(dataTable, element);\n",
              "        const docLink = document.createElement('div');\n",
              "        docLink.innerHTML = docLinkHtml;\n",
              "        element.appendChild(docLink);\n",
              "      }\n",
              "    </script>\n",
              "  </div>\n",
              "\n",
              "\n",
              "<div id=\"df-918bd6e5-ebfa-40de-904e-98a99291b72b\">\n",
              "  <button class=\"colab-df-quickchart\" onclick=\"quickchart('df-918bd6e5-ebfa-40de-904e-98a99291b72b')\"\n",
              "            title=\"Suggest charts\"\n",
              "            style=\"display:none;\">\n",
              "\n",
              "<svg xmlns=\"http://www.w3.org/2000/svg\" height=\"24px\"viewBox=\"0 0 24 24\"\n",
              "     width=\"24px\">\n",
              "    <g>\n",
              "        <path d=\"M19 3H5c-1.1 0-2 .9-2 2v14c0 1.1.9 2 2 2h14c1.1 0 2-.9 2-2V5c0-1.1-.9-2-2-2zM9 17H7v-7h2v7zm4 0h-2V7h2v10zm4 0h-2v-4h2v4z\"/>\n",
              "    </g>\n",
              "</svg>\n",
              "  </button>\n",
              "\n",
              "<style>\n",
              "  .colab-df-quickchart {\n",
              "      --bg-color: #E8F0FE;\n",
              "      --fill-color: #1967D2;\n",
              "      --hover-bg-color: #E2EBFA;\n",
              "      --hover-fill-color: #174EA6;\n",
              "      --disabled-fill-color: #AAA;\n",
              "      --disabled-bg-color: #DDD;\n",
              "  }\n",
              "\n",
              "  [theme=dark] .colab-df-quickchart {\n",
              "      --bg-color: #3B4455;\n",
              "      --fill-color: #D2E3FC;\n",
              "      --hover-bg-color: #434B5C;\n",
              "      --hover-fill-color: #FFFFFF;\n",
              "      --disabled-bg-color: #3B4455;\n",
              "      --disabled-fill-color: #666;\n",
              "  }\n",
              "\n",
              "  .colab-df-quickchart {\n",
              "    background-color: var(--bg-color);\n",
              "    border: none;\n",
              "    border-radius: 50%;\n",
              "    cursor: pointer;\n",
              "    display: none;\n",
              "    fill: var(--fill-color);\n",
              "    height: 32px;\n",
              "    padding: 0;\n",
              "    width: 32px;\n",
              "  }\n",
              "\n",
              "  .colab-df-quickchart:hover {\n",
              "    background-color: var(--hover-bg-color);\n",
              "    box-shadow: 0 1px 2px rgba(60, 64, 67, 0.3), 0 1px 3px 1px rgba(60, 64, 67, 0.15);\n",
              "    fill: var(--button-hover-fill-color);\n",
              "  }\n",
              "\n",
              "  .colab-df-quickchart-complete:disabled,\n",
              "  .colab-df-quickchart-complete:disabled:hover {\n",
              "    background-color: var(--disabled-bg-color);\n",
              "    fill: var(--disabled-fill-color);\n",
              "    box-shadow: none;\n",
              "  }\n",
              "\n",
              "  .colab-df-spinner {\n",
              "    border: 2px solid var(--fill-color);\n",
              "    border-color: transparent;\n",
              "    border-bottom-color: var(--fill-color);\n",
              "    animation:\n",
              "      spin 1s steps(1) infinite;\n",
              "  }\n",
              "\n",
              "  @keyframes spin {\n",
              "    0% {\n",
              "      border-color: transparent;\n",
              "      border-bottom-color: var(--fill-color);\n",
              "      border-left-color: var(--fill-color);\n",
              "    }\n",
              "    20% {\n",
              "      border-color: transparent;\n",
              "      border-left-color: var(--fill-color);\n",
              "      border-top-color: var(--fill-color);\n",
              "    }\n",
              "    30% {\n",
              "      border-color: transparent;\n",
              "      border-left-color: var(--fill-color);\n",
              "      border-top-color: var(--fill-color);\n",
              "      border-right-color: var(--fill-color);\n",
              "    }\n",
              "    40% {\n",
              "      border-color: transparent;\n",
              "      border-right-color: var(--fill-color);\n",
              "      border-top-color: var(--fill-color);\n",
              "    }\n",
              "    60% {\n",
              "      border-color: transparent;\n",
              "      border-right-color: var(--fill-color);\n",
              "    }\n",
              "    80% {\n",
              "      border-color: transparent;\n",
              "      border-right-color: var(--fill-color);\n",
              "      border-bottom-color: var(--fill-color);\n",
              "    }\n",
              "    90% {\n",
              "      border-color: transparent;\n",
              "      border-bottom-color: var(--fill-color);\n",
              "    }\n",
              "  }\n",
              "</style>\n",
              "\n",
              "  <script>\n",
              "    async function quickchart(key) {\n",
              "      const quickchartButtonEl =\n",
              "        document.querySelector('#' + key + ' button');\n",
              "      quickchartButtonEl.disabled = true;  // To prevent multiple clicks.\n",
              "      quickchartButtonEl.classList.add('colab-df-spinner');\n",
              "      try {\n",
              "        const charts = await google.colab.kernel.invokeFunction(\n",
              "            'suggestCharts', [key], {});\n",
              "      } catch (error) {\n",
              "        console.error('Error during call to suggestCharts:', error);\n",
              "      }\n",
              "      quickchartButtonEl.classList.remove('colab-df-spinner');\n",
              "      quickchartButtonEl.classList.add('colab-df-quickchart-complete');\n",
              "    }\n",
              "    (() => {\n",
              "      let quickchartButtonEl =\n",
              "        document.querySelector('#df-918bd6e5-ebfa-40de-904e-98a99291b72b button');\n",
              "      quickchartButtonEl.style.display =\n",
              "        google.colab.kernel.accessAllowed ? 'block' : 'none';\n",
              "    })();\n",
              "  </script>\n",
              "</div>\n",
              "\n",
              "    </div>\n",
              "  </div>\n"
            ],
            "application/vnd.google.colaboratory.intrinsic+json": {
              "type": "dataframe",
              "variable_name": "tempdf"
            }
          },
          "metadata": {},
          "execution_count": 7
        }
      ]
    },
    {
      "cell_type": "code",
      "source": [
        "tempdf.info()"
      ],
      "metadata": {
        "colab": {
          "base_uri": "https://localhost:8080/"
        },
        "id": "01ZqUsvtrSyO",
        "outputId": "534333d8-a21a-4ba8-a4d9-057197db4529"
      },
      "execution_count": 8,
      "outputs": [
        {
          "output_type": "stream",
          "name": "stdout",
          "text": [
            "<class 'pandas.core.frame.DataFrame'>\n",
            "Index: 477576 entries, 0 to 135576\n",
            "Data columns (total 6 columns):\n",
            " #   Column        Non-Null Count   Dtype         \n",
            "---  ------        --------------   -----         \n",
            " 0   AirTemp       471649 non-null  float64       \n",
            " 1   Day           477576 non-null  datetime64[ns]\n",
            " 2   Hour          477576 non-null  int64         \n",
            " 3   Latitude      477576 non-null  float64       \n",
            " 4   Longitude     477576 non-null  float64       \n",
            " 5   Install.Type  477576 non-null  object        \n",
            "dtypes: datetime64[ns](1), float64(3), int64(1), object(1)\n",
            "memory usage: 25.5+ MB\n"
          ]
        }
      ]
    },
    {
      "cell_type": "markdown",
      "source": [
        "I went back and forth on whether or not to change the 'Hour' column to an object, because the hours are more of an ordinal category than a numerical feature. Ultimately, I decided not to set the data type as object so that I could more easily call the orders of the hours, but I will need to remember not to run certain calculations on it."
      ],
      "metadata": {
        "id": "FVkHDZpscz5o"
      }
    },
    {
      "cell_type": "code",
      "source": [
        "# tempdf['Hour'] = tempdf['Hour'].astype(object)"
      ],
      "metadata": {
        "id": "KUePcWnJrebw"
      },
      "execution_count": null,
      "outputs": []
    },
    {
      "cell_type": "markdown",
      "source": [
        "I added a column with heat advisory levels based on the outside temperature."
      ],
      "metadata": {
        "id": "8g8mjhJBUWZ3"
      }
    },
    {
      "cell_type": "code",
      "source": [
        "conditions = [\n",
        "    (tempdf['AirTemp'] < 80),\n",
        "    (tempdf['AirTemp'] >= 80) & (tempdf['AirTemp'] < 90),\n",
        "    (tempdf['AirTemp'] >= 90) & (tempdf['AirTemp'] < 103),\n",
        "    (tempdf['AirTemp'] >= 103) & (tempdf['AirTemp'] < 124),\n",
        "    (tempdf['AirTemp'] >= 124)\n",
        "    ]\n",
        "\n",
        "# create a list of the values we want to assign for each condition\n",
        "values = ['Normal', 'Caution', 'Extreme_Caution', 'Danger', 'Extreme_Danger']\n",
        "\n",
        "# create a new column and use np.select to assign values to it using our lists as arguments\n",
        "\n",
        "tempdf['Advisory'] = np.select(conditions, values)\n",
        "\n",
        "# display updated DataFrame\n",
        "tempdf.head()"
      ],
      "metadata": {
        "colab": {
          "base_uri": "https://localhost:8080/",
          "height": 206
        },
        "id": "8LgG-8M1SnEd",
        "outputId": "3cc63aed-ae20-451a-aa1a-1bbf7b1d1f4b"
      },
      "execution_count": 9,
      "outputs": [
        {
          "output_type": "execute_result",
          "data": {
            "text/plain": [
              "     AirTemp        Day  Hour   Latitude  Longitude Install.Type Advisory\n",
              "0  73.942167 2019-08-09     7  40.666205  -73.91691  Street Tree   Normal\n",
              "1  76.666333 2019-08-09     8  40.666205  -73.91691  Street Tree   Normal\n",
              "2  78.691333 2019-08-09     9  40.666205  -73.91691  Street Tree   Normal\n",
              "3  81.472500 2019-08-09    10  40.666205  -73.91691  Street Tree  Caution\n",
              "4  83.571667 2019-08-09    11  40.666205  -73.91691  Street Tree  Caution"
            ],
            "text/html": [
              "\n",
              "  <div id=\"df-21bb037d-46a4-4067-89c4-c0d87e525074\" class=\"colab-df-container\">\n",
              "    <div>\n",
              "<style scoped>\n",
              "    .dataframe tbody tr th:only-of-type {\n",
              "        vertical-align: middle;\n",
              "    }\n",
              "\n",
              "    .dataframe tbody tr th {\n",
              "        vertical-align: top;\n",
              "    }\n",
              "\n",
              "    .dataframe thead th {\n",
              "        text-align: right;\n",
              "    }\n",
              "</style>\n",
              "<table border=\"1\" class=\"dataframe\">\n",
              "  <thead>\n",
              "    <tr style=\"text-align: right;\">\n",
              "      <th></th>\n",
              "      <th>AirTemp</th>\n",
              "      <th>Day</th>\n",
              "      <th>Hour</th>\n",
              "      <th>Latitude</th>\n",
              "      <th>Longitude</th>\n",
              "      <th>Install.Type</th>\n",
              "      <th>Advisory</th>\n",
              "    </tr>\n",
              "  </thead>\n",
              "  <tbody>\n",
              "    <tr>\n",
              "      <th>0</th>\n",
              "      <td>73.942167</td>\n",
              "      <td>2019-08-09</td>\n",
              "      <td>7</td>\n",
              "      <td>40.666205</td>\n",
              "      <td>-73.91691</td>\n",
              "      <td>Street Tree</td>\n",
              "      <td>Normal</td>\n",
              "    </tr>\n",
              "    <tr>\n",
              "      <th>1</th>\n",
              "      <td>76.666333</td>\n",
              "      <td>2019-08-09</td>\n",
              "      <td>8</td>\n",
              "      <td>40.666205</td>\n",
              "      <td>-73.91691</td>\n",
              "      <td>Street Tree</td>\n",
              "      <td>Normal</td>\n",
              "    </tr>\n",
              "    <tr>\n",
              "      <th>2</th>\n",
              "      <td>78.691333</td>\n",
              "      <td>2019-08-09</td>\n",
              "      <td>9</td>\n",
              "      <td>40.666205</td>\n",
              "      <td>-73.91691</td>\n",
              "      <td>Street Tree</td>\n",
              "      <td>Normal</td>\n",
              "    </tr>\n",
              "    <tr>\n",
              "      <th>3</th>\n",
              "      <td>81.472500</td>\n",
              "      <td>2019-08-09</td>\n",
              "      <td>10</td>\n",
              "      <td>40.666205</td>\n",
              "      <td>-73.91691</td>\n",
              "      <td>Street Tree</td>\n",
              "      <td>Caution</td>\n",
              "    </tr>\n",
              "    <tr>\n",
              "      <th>4</th>\n",
              "      <td>83.571667</td>\n",
              "      <td>2019-08-09</td>\n",
              "      <td>11</td>\n",
              "      <td>40.666205</td>\n",
              "      <td>-73.91691</td>\n",
              "      <td>Street Tree</td>\n",
              "      <td>Caution</td>\n",
              "    </tr>\n",
              "  </tbody>\n",
              "</table>\n",
              "</div>\n",
              "    <div class=\"colab-df-buttons\">\n",
              "\n",
              "  <div class=\"colab-df-container\">\n",
              "    <button class=\"colab-df-convert\" onclick=\"convertToInteractive('df-21bb037d-46a4-4067-89c4-c0d87e525074')\"\n",
              "            title=\"Convert this dataframe to an interactive table.\"\n",
              "            style=\"display:none;\">\n",
              "\n",
              "  <svg xmlns=\"http://www.w3.org/2000/svg\" height=\"24px\" viewBox=\"0 -960 960 960\">\n",
              "    <path d=\"M120-120v-720h720v720H120Zm60-500h600v-160H180v160Zm220 220h160v-160H400v160Zm0 220h160v-160H400v160ZM180-400h160v-160H180v160Zm440 0h160v-160H620v160ZM180-180h160v-160H180v160Zm440 0h160v-160H620v160Z\"/>\n",
              "  </svg>\n",
              "    </button>\n",
              "\n",
              "  <style>\n",
              "    .colab-df-container {\n",
              "      display:flex;\n",
              "      gap: 12px;\n",
              "    }\n",
              "\n",
              "    .colab-df-convert {\n",
              "      background-color: #E8F0FE;\n",
              "      border: none;\n",
              "      border-radius: 50%;\n",
              "      cursor: pointer;\n",
              "      display: none;\n",
              "      fill: #1967D2;\n",
              "      height: 32px;\n",
              "      padding: 0 0 0 0;\n",
              "      width: 32px;\n",
              "    }\n",
              "\n",
              "    .colab-df-convert:hover {\n",
              "      background-color: #E2EBFA;\n",
              "      box-shadow: 0px 1px 2px rgba(60, 64, 67, 0.3), 0px 1px 3px 1px rgba(60, 64, 67, 0.15);\n",
              "      fill: #174EA6;\n",
              "    }\n",
              "\n",
              "    .colab-df-buttons div {\n",
              "      margin-bottom: 4px;\n",
              "    }\n",
              "\n",
              "    [theme=dark] .colab-df-convert {\n",
              "      background-color: #3B4455;\n",
              "      fill: #D2E3FC;\n",
              "    }\n",
              "\n",
              "    [theme=dark] .colab-df-convert:hover {\n",
              "      background-color: #434B5C;\n",
              "      box-shadow: 0px 1px 3px 1px rgba(0, 0, 0, 0.15);\n",
              "      filter: drop-shadow(0px 1px 2px rgba(0, 0, 0, 0.3));\n",
              "      fill: #FFFFFF;\n",
              "    }\n",
              "  </style>\n",
              "\n",
              "    <script>\n",
              "      const buttonEl =\n",
              "        document.querySelector('#df-21bb037d-46a4-4067-89c4-c0d87e525074 button.colab-df-convert');\n",
              "      buttonEl.style.display =\n",
              "        google.colab.kernel.accessAllowed ? 'block' : 'none';\n",
              "\n",
              "      async function convertToInteractive(key) {\n",
              "        const element = document.querySelector('#df-21bb037d-46a4-4067-89c4-c0d87e525074');\n",
              "        const dataTable =\n",
              "          await google.colab.kernel.invokeFunction('convertToInteractive',\n",
              "                                                    [key], {});\n",
              "        if (!dataTable) return;\n",
              "\n",
              "        const docLinkHtml = 'Like what you see? Visit the ' +\n",
              "          '<a target=\"_blank\" href=https://colab.research.google.com/notebooks/data_table.ipynb>data table notebook</a>'\n",
              "          + ' to learn more about interactive tables.';\n",
              "        element.innerHTML = '';\n",
              "        dataTable['output_type'] = 'display_data';\n",
              "        await google.colab.output.renderOutput(dataTable, element);\n",
              "        const docLink = document.createElement('div');\n",
              "        docLink.innerHTML = docLinkHtml;\n",
              "        element.appendChild(docLink);\n",
              "      }\n",
              "    </script>\n",
              "  </div>\n",
              "\n",
              "\n",
              "<div id=\"df-7f0e586e-8526-4348-935e-fc0d876ea90c\">\n",
              "  <button class=\"colab-df-quickchart\" onclick=\"quickchart('df-7f0e586e-8526-4348-935e-fc0d876ea90c')\"\n",
              "            title=\"Suggest charts\"\n",
              "            style=\"display:none;\">\n",
              "\n",
              "<svg xmlns=\"http://www.w3.org/2000/svg\" height=\"24px\"viewBox=\"0 0 24 24\"\n",
              "     width=\"24px\">\n",
              "    <g>\n",
              "        <path d=\"M19 3H5c-1.1 0-2 .9-2 2v14c0 1.1.9 2 2 2h14c1.1 0 2-.9 2-2V5c0-1.1-.9-2-2-2zM9 17H7v-7h2v7zm4 0h-2V7h2v10zm4 0h-2v-4h2v4z\"/>\n",
              "    </g>\n",
              "</svg>\n",
              "  </button>\n",
              "\n",
              "<style>\n",
              "  .colab-df-quickchart {\n",
              "      --bg-color: #E8F0FE;\n",
              "      --fill-color: #1967D2;\n",
              "      --hover-bg-color: #E2EBFA;\n",
              "      --hover-fill-color: #174EA6;\n",
              "      --disabled-fill-color: #AAA;\n",
              "      --disabled-bg-color: #DDD;\n",
              "  }\n",
              "\n",
              "  [theme=dark] .colab-df-quickchart {\n",
              "      --bg-color: #3B4455;\n",
              "      --fill-color: #D2E3FC;\n",
              "      --hover-bg-color: #434B5C;\n",
              "      --hover-fill-color: #FFFFFF;\n",
              "      --disabled-bg-color: #3B4455;\n",
              "      --disabled-fill-color: #666;\n",
              "  }\n",
              "\n",
              "  .colab-df-quickchart {\n",
              "    background-color: var(--bg-color);\n",
              "    border: none;\n",
              "    border-radius: 50%;\n",
              "    cursor: pointer;\n",
              "    display: none;\n",
              "    fill: var(--fill-color);\n",
              "    height: 32px;\n",
              "    padding: 0;\n",
              "    width: 32px;\n",
              "  }\n",
              "\n",
              "  .colab-df-quickchart:hover {\n",
              "    background-color: var(--hover-bg-color);\n",
              "    box-shadow: 0 1px 2px rgba(60, 64, 67, 0.3), 0 1px 3px 1px rgba(60, 64, 67, 0.15);\n",
              "    fill: var(--button-hover-fill-color);\n",
              "  }\n",
              "\n",
              "  .colab-df-quickchart-complete:disabled,\n",
              "  .colab-df-quickchart-complete:disabled:hover {\n",
              "    background-color: var(--disabled-bg-color);\n",
              "    fill: var(--disabled-fill-color);\n",
              "    box-shadow: none;\n",
              "  }\n",
              "\n",
              "  .colab-df-spinner {\n",
              "    border: 2px solid var(--fill-color);\n",
              "    border-color: transparent;\n",
              "    border-bottom-color: var(--fill-color);\n",
              "    animation:\n",
              "      spin 1s steps(1) infinite;\n",
              "  }\n",
              "\n",
              "  @keyframes spin {\n",
              "    0% {\n",
              "      border-color: transparent;\n",
              "      border-bottom-color: var(--fill-color);\n",
              "      border-left-color: var(--fill-color);\n",
              "    }\n",
              "    20% {\n",
              "      border-color: transparent;\n",
              "      border-left-color: var(--fill-color);\n",
              "      border-top-color: var(--fill-color);\n",
              "    }\n",
              "    30% {\n",
              "      border-color: transparent;\n",
              "      border-left-color: var(--fill-color);\n",
              "      border-top-color: var(--fill-color);\n",
              "      border-right-color: var(--fill-color);\n",
              "    }\n",
              "    40% {\n",
              "      border-color: transparent;\n",
              "      border-right-color: var(--fill-color);\n",
              "      border-top-color: var(--fill-color);\n",
              "    }\n",
              "    60% {\n",
              "      border-color: transparent;\n",
              "      border-right-color: var(--fill-color);\n",
              "    }\n",
              "    80% {\n",
              "      border-color: transparent;\n",
              "      border-right-color: var(--fill-color);\n",
              "      border-bottom-color: var(--fill-color);\n",
              "    }\n",
              "    90% {\n",
              "      border-color: transparent;\n",
              "      border-bottom-color: var(--fill-color);\n",
              "    }\n",
              "  }\n",
              "</style>\n",
              "\n",
              "  <script>\n",
              "    async function quickchart(key) {\n",
              "      const quickchartButtonEl =\n",
              "        document.querySelector('#' + key + ' button');\n",
              "      quickchartButtonEl.disabled = true;  // To prevent multiple clicks.\n",
              "      quickchartButtonEl.classList.add('colab-df-spinner');\n",
              "      try {\n",
              "        const charts = await google.colab.kernel.invokeFunction(\n",
              "            'suggestCharts', [key], {});\n",
              "      } catch (error) {\n",
              "        console.error('Error during call to suggestCharts:', error);\n",
              "      }\n",
              "      quickchartButtonEl.classList.remove('colab-df-spinner');\n",
              "      quickchartButtonEl.classList.add('colab-df-quickchart-complete');\n",
              "    }\n",
              "    (() => {\n",
              "      let quickchartButtonEl =\n",
              "        document.querySelector('#df-7f0e586e-8526-4348-935e-fc0d876ea90c button');\n",
              "      quickchartButtonEl.style.display =\n",
              "        google.colab.kernel.accessAllowed ? 'block' : 'none';\n",
              "    })();\n",
              "  </script>\n",
              "</div>\n",
              "\n",
              "    </div>\n",
              "  </div>\n"
            ],
            "application/vnd.google.colaboratory.intrinsic+json": {
              "type": "dataframe",
              "variable_name": "tempdf"
            }
          },
          "metadata": {},
          "execution_count": 9
        }
      ]
    },
    {
      "cell_type": "markdown",
      "source": [
        "### Step 2:\n",
        "\n",
        "Here I briefly separated my data into a targete class and the other data, as well as the test and training data."
      ],
      "metadata": {
        "id": "wksMVWJVeOmD"
      }
    },
    {
      "cell_type": "code",
      "source": [
        "from sklearn.model_selection import train_test_split"
      ],
      "metadata": {
        "id": "Cmp5WC2NeOVE"
      },
      "execution_count": 32,
      "outputs": []
    },
    {
      "cell_type": "code",
      "source": [
        "y_target = tempdf['Advisory']\n",
        "print(y_target)"
      ],
      "metadata": {
        "colab": {
          "base_uri": "https://localhost:8080/"
        },
        "id": "2oV4i1nHh8FP",
        "outputId": "0fef3541-38c2-4eb0-ddcb-6df5aa1f2b50"
      },
      "execution_count": 56,
      "outputs": [
        {
          "output_type": "stream",
          "name": "stdout",
          "text": [
            "0          Normal\n",
            "1          Normal\n",
            "2          Normal\n",
            "3         Caution\n",
            "4         Caution\n",
            "           ...   \n",
            "135572     Normal\n",
            "135573     Normal\n",
            "135574     Normal\n",
            "135575    Caution\n",
            "135576    Caution\n",
            "Name: Advisory, Length: 477576, dtype: object\n"
          ]
        }
      ]
    },
    {
      "cell_type": "code",
      "source": [
        "x_data = tempdf.drop(['Advisory'], axis=1)\n",
        "print(x_data)"
      ],
      "metadata": {
        "colab": {
          "base_uri": "https://localhost:8080/"
        },
        "id": "R_pQPnqEiHmu",
        "outputId": "e08a105b-0aff-43a1-e1c3-6db246d4f889"
      },
      "execution_count": 57,
      "outputs": [
        {
          "output_type": "stream",
          "name": "stdout",
          "text": [
            "          AirTemp        Day  Hour   Latitude  Longitude Install.Type\n",
            "0       73.942167 2019-08-09     7  40.666205 -73.916910  Street Tree\n",
            "1       76.666333 2019-08-09     8  40.666205 -73.916910  Street Tree\n",
            "2       78.691333 2019-08-09     9  40.666205 -73.916910  Street Tree\n",
            "3       81.472500 2019-08-09    10  40.666205 -73.916910  Street Tree\n",
            "4       83.571667 2019-08-09    11  40.666205 -73.916910  Street Tree\n",
            "...           ...        ...   ...        ...        ...          ...\n",
            "135572  74.705333 2019-07-15     7  40.682379 -73.931414   Light Pole\n",
            "135573  76.107833 2019-07-15     8  40.682379 -73.931414   Light Pole\n",
            "135574  77.990333 2019-07-15     9  40.682379 -73.931414   Light Pole\n",
            "135575  81.616167 2019-07-15    10  40.682379 -73.931414   Light Pole\n",
            "135576  84.669833 2019-07-15    11  40.682379 -73.931414   Light Pole\n",
            "\n",
            "[477576 rows x 6 columns]\n"
          ]
        }
      ]
    },
    {
      "cell_type": "code",
      "source": [
        "X_train, X_test, y_train, y_test = train_test_split(x_data, y_target, random_state=0, stratify=None)"
      ],
      "metadata": {
        "id": "TDoVLJ0-hx2P"
      },
      "execution_count": 58,
      "outputs": []
    },
    {
      "cell_type": "markdown",
      "source": [
        "### Step 3:\n",
        "\n",
        "Explore your training set."
      ],
      "metadata": {
        "id": "ehmOLzweizQS"
      }
    },
    {
      "cell_type": "code",
      "source": [
        "X_train.describe()"
      ],
      "metadata": {
        "colab": {
          "base_uri": "https://localhost:8080/",
          "height": 300
        },
        "id": "hRbkYbQJhOc_",
        "outputId": "e6ab93dc-d76c-47a4-8c11-da699c134492"
      },
      "execution_count": 59,
      "outputs": [
        {
          "output_type": "execute_result",
          "data": {
            "text/plain": [
              "             AirTemp                            Day           Hour  \\\n",
              "count  353842.000000                         358182  358182.000000   \n",
              "mean       75.672800  2019-08-14 23:08:22.276496384      11.491990   \n",
              "min        46.031000            2019-06-15 00:00:00       0.000000   \n",
              "25%        70.150833            2019-07-15 00:00:00       5.000000   \n",
              "50%        75.659333            2019-08-15 00:00:00      11.000000   \n",
              "75%        81.472333            2019-09-15 00:00:00      17.000000   \n",
              "max       111.546500            2019-10-15 00:00:00      23.000000   \n",
              "std         8.967774                            NaN       6.917393   \n",
              "\n",
              "            Latitude      Longitude  \n",
              "count  358182.000000  358182.000000  \n",
              "mean       40.667502     -73.927265  \n",
              "min        40.646738     -73.998978  \n",
              "25%        40.660060     -73.945583  \n",
              "50%        40.666487     -73.925768  \n",
              "75%        40.679143     -73.907185  \n",
              "max        40.686464     -73.887402  \n",
              "std         0.012040       0.028421  "
            ],
            "text/html": [
              "\n",
              "  <div id=\"df-c88cf8d4-fcb8-47e9-a229-66095d60f5d5\" class=\"colab-df-container\">\n",
              "    <div>\n",
              "<style scoped>\n",
              "    .dataframe tbody tr th:only-of-type {\n",
              "        vertical-align: middle;\n",
              "    }\n",
              "\n",
              "    .dataframe tbody tr th {\n",
              "        vertical-align: top;\n",
              "    }\n",
              "\n",
              "    .dataframe thead th {\n",
              "        text-align: right;\n",
              "    }\n",
              "</style>\n",
              "<table border=\"1\" class=\"dataframe\">\n",
              "  <thead>\n",
              "    <tr style=\"text-align: right;\">\n",
              "      <th></th>\n",
              "      <th>AirTemp</th>\n",
              "      <th>Day</th>\n",
              "      <th>Hour</th>\n",
              "      <th>Latitude</th>\n",
              "      <th>Longitude</th>\n",
              "    </tr>\n",
              "  </thead>\n",
              "  <tbody>\n",
              "    <tr>\n",
              "      <th>count</th>\n",
              "      <td>353842.000000</td>\n",
              "      <td>358182</td>\n",
              "      <td>358182.000000</td>\n",
              "      <td>358182.000000</td>\n",
              "      <td>358182.000000</td>\n",
              "    </tr>\n",
              "    <tr>\n",
              "      <th>mean</th>\n",
              "      <td>75.672800</td>\n",
              "      <td>2019-08-14 23:08:22.276496384</td>\n",
              "      <td>11.491990</td>\n",
              "      <td>40.667502</td>\n",
              "      <td>-73.927265</td>\n",
              "    </tr>\n",
              "    <tr>\n",
              "      <th>min</th>\n",
              "      <td>46.031000</td>\n",
              "      <td>2019-06-15 00:00:00</td>\n",
              "      <td>0.000000</td>\n",
              "      <td>40.646738</td>\n",
              "      <td>-73.998978</td>\n",
              "    </tr>\n",
              "    <tr>\n",
              "      <th>25%</th>\n",
              "      <td>70.150833</td>\n",
              "      <td>2019-07-15 00:00:00</td>\n",
              "      <td>5.000000</td>\n",
              "      <td>40.660060</td>\n",
              "      <td>-73.945583</td>\n",
              "    </tr>\n",
              "    <tr>\n",
              "      <th>50%</th>\n",
              "      <td>75.659333</td>\n",
              "      <td>2019-08-15 00:00:00</td>\n",
              "      <td>11.000000</td>\n",
              "      <td>40.666487</td>\n",
              "      <td>-73.925768</td>\n",
              "    </tr>\n",
              "    <tr>\n",
              "      <th>75%</th>\n",
              "      <td>81.472333</td>\n",
              "      <td>2019-09-15 00:00:00</td>\n",
              "      <td>17.000000</td>\n",
              "      <td>40.679143</td>\n",
              "      <td>-73.907185</td>\n",
              "    </tr>\n",
              "    <tr>\n",
              "      <th>max</th>\n",
              "      <td>111.546500</td>\n",
              "      <td>2019-10-15 00:00:00</td>\n",
              "      <td>23.000000</td>\n",
              "      <td>40.686464</td>\n",
              "      <td>-73.887402</td>\n",
              "    </tr>\n",
              "    <tr>\n",
              "      <th>std</th>\n",
              "      <td>8.967774</td>\n",
              "      <td>NaN</td>\n",
              "      <td>6.917393</td>\n",
              "      <td>0.012040</td>\n",
              "      <td>0.028421</td>\n",
              "    </tr>\n",
              "  </tbody>\n",
              "</table>\n",
              "</div>\n",
              "    <div class=\"colab-df-buttons\">\n",
              "\n",
              "  <div class=\"colab-df-container\">\n",
              "    <button class=\"colab-df-convert\" onclick=\"convertToInteractive('df-c88cf8d4-fcb8-47e9-a229-66095d60f5d5')\"\n",
              "            title=\"Convert this dataframe to an interactive table.\"\n",
              "            style=\"display:none;\">\n",
              "\n",
              "  <svg xmlns=\"http://www.w3.org/2000/svg\" height=\"24px\" viewBox=\"0 -960 960 960\">\n",
              "    <path d=\"M120-120v-720h720v720H120Zm60-500h600v-160H180v160Zm220 220h160v-160H400v160Zm0 220h160v-160H400v160ZM180-400h160v-160H180v160Zm440 0h160v-160H620v160ZM180-180h160v-160H180v160Zm440 0h160v-160H620v160Z\"/>\n",
              "  </svg>\n",
              "    </button>\n",
              "\n",
              "  <style>\n",
              "    .colab-df-container {\n",
              "      display:flex;\n",
              "      gap: 12px;\n",
              "    }\n",
              "\n",
              "    .colab-df-convert {\n",
              "      background-color: #E8F0FE;\n",
              "      border: none;\n",
              "      border-radius: 50%;\n",
              "      cursor: pointer;\n",
              "      display: none;\n",
              "      fill: #1967D2;\n",
              "      height: 32px;\n",
              "      padding: 0 0 0 0;\n",
              "      width: 32px;\n",
              "    }\n",
              "\n",
              "    .colab-df-convert:hover {\n",
              "      background-color: #E2EBFA;\n",
              "      box-shadow: 0px 1px 2px rgba(60, 64, 67, 0.3), 0px 1px 3px 1px rgba(60, 64, 67, 0.15);\n",
              "      fill: #174EA6;\n",
              "    }\n",
              "\n",
              "    .colab-df-buttons div {\n",
              "      margin-bottom: 4px;\n",
              "    }\n",
              "\n",
              "    [theme=dark] .colab-df-convert {\n",
              "      background-color: #3B4455;\n",
              "      fill: #D2E3FC;\n",
              "    }\n",
              "\n",
              "    [theme=dark] .colab-df-convert:hover {\n",
              "      background-color: #434B5C;\n",
              "      box-shadow: 0px 1px 3px 1px rgba(0, 0, 0, 0.15);\n",
              "      filter: drop-shadow(0px 1px 2px rgba(0, 0, 0, 0.3));\n",
              "      fill: #FFFFFF;\n",
              "    }\n",
              "  </style>\n",
              "\n",
              "    <script>\n",
              "      const buttonEl =\n",
              "        document.querySelector('#df-c88cf8d4-fcb8-47e9-a229-66095d60f5d5 button.colab-df-convert');\n",
              "      buttonEl.style.display =\n",
              "        google.colab.kernel.accessAllowed ? 'block' : 'none';\n",
              "\n",
              "      async function convertToInteractive(key) {\n",
              "        const element = document.querySelector('#df-c88cf8d4-fcb8-47e9-a229-66095d60f5d5');\n",
              "        const dataTable =\n",
              "          await google.colab.kernel.invokeFunction('convertToInteractive',\n",
              "                                                    [key], {});\n",
              "        if (!dataTable) return;\n",
              "\n",
              "        const docLinkHtml = 'Like what you see? Visit the ' +\n",
              "          '<a target=\"_blank\" href=https://colab.research.google.com/notebooks/data_table.ipynb>data table notebook</a>'\n",
              "          + ' to learn more about interactive tables.';\n",
              "        element.innerHTML = '';\n",
              "        dataTable['output_type'] = 'display_data';\n",
              "        await google.colab.output.renderOutput(dataTable, element);\n",
              "        const docLink = document.createElement('div');\n",
              "        docLink.innerHTML = docLinkHtml;\n",
              "        element.appendChild(docLink);\n",
              "      }\n",
              "    </script>\n",
              "  </div>\n",
              "\n",
              "\n",
              "<div id=\"df-262ea972-637a-410e-88a8-ebb8cb0f20a4\">\n",
              "  <button class=\"colab-df-quickchart\" onclick=\"quickchart('df-262ea972-637a-410e-88a8-ebb8cb0f20a4')\"\n",
              "            title=\"Suggest charts\"\n",
              "            style=\"display:none;\">\n",
              "\n",
              "<svg xmlns=\"http://www.w3.org/2000/svg\" height=\"24px\"viewBox=\"0 0 24 24\"\n",
              "     width=\"24px\">\n",
              "    <g>\n",
              "        <path d=\"M19 3H5c-1.1 0-2 .9-2 2v14c0 1.1.9 2 2 2h14c1.1 0 2-.9 2-2V5c0-1.1-.9-2-2-2zM9 17H7v-7h2v7zm4 0h-2V7h2v10zm4 0h-2v-4h2v4z\"/>\n",
              "    </g>\n",
              "</svg>\n",
              "  </button>\n",
              "\n",
              "<style>\n",
              "  .colab-df-quickchart {\n",
              "      --bg-color: #E8F0FE;\n",
              "      --fill-color: #1967D2;\n",
              "      --hover-bg-color: #E2EBFA;\n",
              "      --hover-fill-color: #174EA6;\n",
              "      --disabled-fill-color: #AAA;\n",
              "      --disabled-bg-color: #DDD;\n",
              "  }\n",
              "\n",
              "  [theme=dark] .colab-df-quickchart {\n",
              "      --bg-color: #3B4455;\n",
              "      --fill-color: #D2E3FC;\n",
              "      --hover-bg-color: #434B5C;\n",
              "      --hover-fill-color: #FFFFFF;\n",
              "      --disabled-bg-color: #3B4455;\n",
              "      --disabled-fill-color: #666;\n",
              "  }\n",
              "\n",
              "  .colab-df-quickchart {\n",
              "    background-color: var(--bg-color);\n",
              "    border: none;\n",
              "    border-radius: 50%;\n",
              "    cursor: pointer;\n",
              "    display: none;\n",
              "    fill: var(--fill-color);\n",
              "    height: 32px;\n",
              "    padding: 0;\n",
              "    width: 32px;\n",
              "  }\n",
              "\n",
              "  .colab-df-quickchart:hover {\n",
              "    background-color: var(--hover-bg-color);\n",
              "    box-shadow: 0 1px 2px rgba(60, 64, 67, 0.3), 0 1px 3px 1px rgba(60, 64, 67, 0.15);\n",
              "    fill: var(--button-hover-fill-color);\n",
              "  }\n",
              "\n",
              "  .colab-df-quickchart-complete:disabled,\n",
              "  .colab-df-quickchart-complete:disabled:hover {\n",
              "    background-color: var(--disabled-bg-color);\n",
              "    fill: var(--disabled-fill-color);\n",
              "    box-shadow: none;\n",
              "  }\n",
              "\n",
              "  .colab-df-spinner {\n",
              "    border: 2px solid var(--fill-color);\n",
              "    border-color: transparent;\n",
              "    border-bottom-color: var(--fill-color);\n",
              "    animation:\n",
              "      spin 1s steps(1) infinite;\n",
              "  }\n",
              "\n",
              "  @keyframes spin {\n",
              "    0% {\n",
              "      border-color: transparent;\n",
              "      border-bottom-color: var(--fill-color);\n",
              "      border-left-color: var(--fill-color);\n",
              "    }\n",
              "    20% {\n",
              "      border-color: transparent;\n",
              "      border-left-color: var(--fill-color);\n",
              "      border-top-color: var(--fill-color);\n",
              "    }\n",
              "    30% {\n",
              "      border-color: transparent;\n",
              "      border-left-color: var(--fill-color);\n",
              "      border-top-color: var(--fill-color);\n",
              "      border-right-color: var(--fill-color);\n",
              "    }\n",
              "    40% {\n",
              "      border-color: transparent;\n",
              "      border-right-color: var(--fill-color);\n",
              "      border-top-color: var(--fill-color);\n",
              "    }\n",
              "    60% {\n",
              "      border-color: transparent;\n",
              "      border-right-color: var(--fill-color);\n",
              "    }\n",
              "    80% {\n",
              "      border-color: transparent;\n",
              "      border-right-color: var(--fill-color);\n",
              "      border-bottom-color: var(--fill-color);\n",
              "    }\n",
              "    90% {\n",
              "      border-color: transparent;\n",
              "      border-bottom-color: var(--fill-color);\n",
              "    }\n",
              "  }\n",
              "</style>\n",
              "\n",
              "  <script>\n",
              "    async function quickchart(key) {\n",
              "      const quickchartButtonEl =\n",
              "        document.querySelector('#' + key + ' button');\n",
              "      quickchartButtonEl.disabled = true;  // To prevent multiple clicks.\n",
              "      quickchartButtonEl.classList.add('colab-df-spinner');\n",
              "      try {\n",
              "        const charts = await google.colab.kernel.invokeFunction(\n",
              "            'suggestCharts', [key], {});\n",
              "      } catch (error) {\n",
              "        console.error('Error during call to suggestCharts:', error);\n",
              "      }\n",
              "      quickchartButtonEl.classList.remove('colab-df-spinner');\n",
              "      quickchartButtonEl.classList.add('colab-df-quickchart-complete');\n",
              "    }\n",
              "    (() => {\n",
              "      let quickchartButtonEl =\n",
              "        document.querySelector('#df-262ea972-637a-410e-88a8-ebb8cb0f20a4 button');\n",
              "      quickchartButtonEl.style.display =\n",
              "        google.colab.kernel.accessAllowed ? 'block' : 'none';\n",
              "    })();\n",
              "  </script>\n",
              "</div>\n",
              "\n",
              "    </div>\n",
              "  </div>\n"
            ],
            "application/vnd.google.colaboratory.intrinsic+json": {
              "type": "dataframe",
              "summary": "{\n  \"name\": \"X_train\",\n  \"rows\": 8,\n  \"fields\": [\n    {\n      \"column\": \"AirTemp\",\n      \"properties\": {\n        \"dtype\": \"number\",\n        \"std\": 125078.32899293142,\n        \"min\": 8.96777359522411,\n        \"max\": 353842.0,\n        \"num_unique_values\": 8,\n        \"samples\": [\n          75.67279997003389,\n          81.47233333,\n          353842.0\n        ],\n        \"semantic_type\": \"\",\n        \"description\": \"\"\n      }\n    },\n    {\n      \"column\": \"Day\",\n      \"properties\": {\n        \"dtype\": \"date\",\n        \"min\": \"1970-01-01 00:00:00.000358182\",\n        \"max\": \"2019-10-15 00:00:00\",\n        \"num_unique_values\": 7,\n        \"samples\": [\n          \"358182\",\n          \"2019-08-14 23:08:22.276496384\",\n          \"2019-09-15 00:00:00\"\n        ],\n        \"semantic_type\": \"\",\n        \"description\": \"\"\n      }\n    },\n    {\n      \"column\": \"Hour\",\n      \"properties\": {\n        \"dtype\": \"number\",\n        \"std\": 126632.70250717225,\n        \"min\": 0.0,\n        \"max\": 358182.0,\n        \"num_unique_values\": 8,\n        \"samples\": [\n          11.491990105588778,\n          17.0,\n          358182.0\n        ],\n        \"semantic_type\": \"\",\n        \"description\": \"\"\n      }\n    },\n    {\n      \"column\": \"Latitude\",\n      \"properties\": {\n        \"dtype\": \"number\",\n        \"std\": 126624.13655658739,\n        \"min\": 0.012039600078462276,\n        \"max\": 358182.0,\n        \"num_unique_values\": 8,\n        \"samples\": [\n          40.6675022138835,\n          40.67914263,\n          358182.0\n        ],\n        \"semantic_type\": \"\",\n        \"description\": \"\"\n      }\n    },\n    {\n      \"column\": \"Longitude\",\n      \"properties\": {\n        \"dtype\": \"number\",\n        \"std\": 126658.866546675,\n        \"min\": -73.99897774,\n        \"max\": 358182.0,\n        \"num_unique_values\": 8,\n        \"samples\": [\n          -73.92726513145871,\n          -73.90718546,\n          358182.0\n        ],\n        \"semantic_type\": \"\",\n        \"description\": \"\"\n      }\n    }\n  ]\n}"
            }
          },
          "metadata": {},
          "execution_count": 59
        }
      ]
    },
    {
      "cell_type": "code",
      "source": [
        "X_train.info()"
      ],
      "metadata": {
        "colab": {
          "base_uri": "https://localhost:8080/"
        },
        "id": "Zx7IaoGwhXu5",
        "outputId": "b0402c68-93ff-4188-8977-26a7518bf831"
      },
      "execution_count": 60,
      "outputs": [
        {
          "output_type": "stream",
          "name": "stdout",
          "text": [
            "<class 'pandas.core.frame.DataFrame'>\n",
            "Index: 358182 entries, 315900 to 119485\n",
            "Data columns (total 6 columns):\n",
            " #   Column        Non-Null Count   Dtype         \n",
            "---  ------        --------------   -----         \n",
            " 0   AirTemp       353842 non-null  float64       \n",
            " 1   Day           358182 non-null  datetime64[ns]\n",
            " 2   Hour          358182 non-null  int64         \n",
            " 3   Latitude      358182 non-null  float64       \n",
            " 4   Longitude     358182 non-null  float64       \n",
            " 5   Install.Type  358182 non-null  object        \n",
            "dtypes: datetime64[ns](1), float64(3), int64(1), object(1)\n",
            "memory usage: 19.1+ MB\n"
          ]
        }
      ]
    },
    {
      "cell_type": "code",
      "source": [
        "y_train.describe()"
      ],
      "metadata": {
        "colab": {
          "base_uri": "https://localhost:8080/"
        },
        "id": "1E7EO69uhSVR",
        "outputId": "ea2e251b-9477-4ca3-8600-a04f7cb46790"
      },
      "execution_count": 61,
      "outputs": [
        {
          "output_type": "execute_result",
          "data": {
            "text/plain": [
              "count     358182\n",
              "unique         5\n",
              "top       Normal\n",
              "freq      247489\n",
              "Name: Advisory, dtype: object"
            ]
          },
          "metadata": {},
          "execution_count": 61
        }
      ]
    },
    {
      "cell_type": "code",
      "source": [
        "y_train.info()"
      ],
      "metadata": {
        "colab": {
          "base_uri": "https://localhost:8080/"
        },
        "id": "vKK5BiTfihIx",
        "outputId": "e06aa2a3-0b0c-489c-e897-a1aa051a3df8"
      },
      "execution_count": 62,
      "outputs": [
        {
          "output_type": "stream",
          "name": "stdout",
          "text": [
            "<class 'pandas.core.series.Series'>\n",
            "Index: 358182 entries, 315900 to 119485\n",
            "Series name: Advisory\n",
            "Non-Null Count   Dtype \n",
            "--------------   ----- \n",
            "358182 non-null  object\n",
            "dtypes: object(1)\n",
            "memory usage: 5.5+ MB\n"
          ]
        }
      ]
    },
    {
      "cell_type": "markdown",
      "source": [
        "### Step 4:\n",
        "\n",
        "Data cleaning. For this step I found that a number of my rows were marked as NaN for the target data, in this case the air temperature. I considered dropping those cases, since I still had plenty of data, or setting them as a mean value."
      ],
      "metadata": {
        "id": "1L7NfaV3jhgq"
      }
    },
    {
      "cell_type": "code",
      "source": [
        "nan_Xcount = X_train.isna().sum()\n",
        "\n",
        "print(nan_Xcount)"
      ],
      "metadata": {
        "colab": {
          "base_uri": "https://localhost:8080/"
        },
        "id": "wVSLKkpVkZxL",
        "outputId": "facc9eda-7e60-44d0-b7cf-2ddd04b40493"
      },
      "execution_count": 63,
      "outputs": [
        {
          "output_type": "stream",
          "name": "stdout",
          "text": [
            "AirTemp         4340\n",
            "Day                0\n",
            "Hour               0\n",
            "Latitude           0\n",
            "Longitude          0\n",
            "Install.Type       0\n",
            "dtype: int64\n"
          ]
        }
      ]
    },
    {
      "cell_type": "markdown",
      "source": [
        "Before deciding if I should use the median or mean value for the replacement value, I first checked to see if the data was normally distributed. It looked pretty normal, so I chose to use the mean."
      ],
      "metadata": {
        "id": "8sW8LjJpqf72"
      }
    },
    {
      "cell_type": "code",
      "source": [
        "%matplotlib inline\n",
        "import matplotlib.pyplot as plt\n",
        "X_train['AirTemp'].hist(bins=50, figsize=(5,5))\n",
        "plt.show()"
      ],
      "metadata": {
        "id": "7WZi2uKfqF_g",
        "outputId": "6dd04878-0ace-4930-c34d-9b53b8a70f77",
        "colab": {
          "base_uri": "https://localhost:8080/",
          "height": 445
        }
      },
      "execution_count": 68,
      "outputs": [
        {
          "output_type": "display_data",
          "data": {
            "text/plain": [
              "<Figure size 500x500 with 1 Axes>"
            ],
            "image/png": "[encoded data removed]"
          },
          "metadata": {}
        }
      ]
    },
    {
      "cell_type": "code",
      "source": [
        "# adding new columns with the na's replaced with the mean value for air temp\n",
        "\n",
        "X_train['AirTemp_Mean'] = X_train['AirTemp'].fillna(X_train['AirTemp'].mean())\n",
        "print(X_train.head())"
      ],
      "metadata": {
        "id": "gBRT2fO1rSeH",
        "outputId": "e9eb0d8d-a77c-453a-a719-f295f6eb5c29",
        "colab": {
          "base_uri": "https://localhost:8080/"
        }
      },
      "execution_count": 72,
      "outputs": [
        {
          "output_type": "stream",
          "name": "stdout",
          "text": [
            "          AirTemp        Day  Hour   Latitude  Longitude Install.Type  \\\n",
            "315900  72.544667 2019-09-20    21  40.682073 -73.931813  Street Tree   \n",
            "126541  79.165500 2019-08-18     9  40.663420 -73.906938  Street Tree   \n",
            "300052  86.633333 2019-07-21     2  40.678215 -73.983136   Light Pole   \n",
            "50364   75.970333 2019-06-30     1  40.659592 -73.912133  Street Tree   \n",
            "56966   66.029500 2019-10-14    20  40.665650 -73.912600   Light Pole   \n",
            "\n",
            "        AirTemp_Mean  \n",
            "315900     72.544667  \n",
            "126541     79.165500  \n",
            "300052     86.633333  \n",
            "50364      75.970333  \n",
            "56966      66.029500  \n"
          ]
        }
      ]
    },
    {
      "cell_type": "code",
      "source": [
        "X_train_new = X_train.drop(['AirTemp'], axis=1)\n",
        "print(X_train_new.head())"
      ],
      "metadata": {
        "id": "pgiW_7rLr-ws",
        "outputId": "57945f3b-9150-4cce-b8d3-db844522a376",
        "colab": {
          "base_uri": "https://localhost:8080/"
        }
      },
      "execution_count": 74,
      "outputs": [
        {
          "output_type": "stream",
          "name": "stdout",
          "text": [
            "              Day  Hour   Latitude  Longitude Install.Type  AirTemp_Mean\n",
            "315900 2019-09-20    21  40.682073 -73.931813  Street Tree     72.544667\n",
            "126541 2019-08-18     9  40.663420 -73.906938  Street Tree     79.165500\n",
            "300052 2019-07-21     2  40.678215 -73.983136   Light Pole     86.633333\n",
            "50364  2019-06-30     1  40.659592 -73.912133  Street Tree     75.970333\n",
            "56966  2019-10-14    20  40.665650 -73.912600   Light Pole     66.029500\n"
          ]
        }
      ]
    },
    {
      "cell_type": "code",
      "source": [
        "X_test['AirTemp_Mean'] = X_test['AirTemp'].fillna(X_test['AirTemp'].mean())\n",
        "print(X_test.head())"
      ],
      "metadata": {
        "id": "A3m-KuzGsbjw",
        "outputId": "da4ee2d7-697e-4099-e95d-0e98dffb2443",
        "colab": {
          "base_uri": "https://localhost:8080/"
        }
      },
      "execution_count": 75,
      "outputs": [
        {
          "output_type": "stream",
          "name": "stdout",
          "text": [
            "          AirTemp        Day  Hour   Latitude  Longitude Install.Type  \\\n",
            "68462   74.849667 2019-09-24     2  40.686012 -73.925768  Street Tree   \n",
            "78332   72.710667 2019-08-27    17  40.651562 -73.947778  Street Tree   \n",
            "29494   70.508333 2019-09-04     4  40.664301 -73.916268  Street Tree   \n",
            "121146  65.031000 2019-09-08     6  40.663994 -73.906047   Light Pole   \n",
            "312386  70.916167 2019-08-28     7  40.681566 -73.932815  Street Tree   \n",
            "\n",
            "        AirTemp_Mean  \n",
            "68462      74.849667  \n",
            "78332      72.710667  \n",
            "29494      70.508333  \n",
            "121146     65.031000  \n",
            "312386     70.916167  \n"
          ]
        }
      ]
    },
    {
      "cell_type": "code",
      "source": [
        "X_test_new = X_test.drop(['AirTemp'], axis=1)\n",
        "print(X_test_new.head())"
      ],
      "metadata": {
        "id": "pHPi-gJzsm-7",
        "outputId": "8ffa9748-f3a6-40b1-a1e1-3ef10f7957ce",
        "colab": {
          "base_uri": "https://localhost:8080/"
        }
      },
      "execution_count": 76,
      "outputs": [
        {
          "output_type": "stream",
          "name": "stdout",
          "text": [
            "              Day  Hour   Latitude  Longitude Install.Type  AirTemp_Mean\n",
            "68462  2019-09-24     2  40.686012 -73.925768  Street Tree     74.849667\n",
            "78332  2019-08-27    17  40.651562 -73.947778  Street Tree     72.710667\n",
            "29494  2019-09-04     4  40.664301 -73.916268  Street Tree     70.508333\n",
            "121146 2019-09-08     6  40.663994 -73.906047   Light Pole     65.031000\n",
            "312386 2019-08-28     7  40.681566 -73.932815  Street Tree     70.916167\n"
          ]
        }
      ]
    },
    {
      "cell_type": "markdown",
      "source": [
        "### Step 5:\n",
        "\n",
        "This step was to visualize my training data set."
      ],
      "metadata": {
        "id": "3Re0xXQPs4QP"
      }
    },
    {
      "cell_type": "code",
      "source": [
        "X_train_new.plot(kind=\"scatter\", x=\"Longitude\", y=\"Latitude\", alpha=0.2, c=X_train_new['AirTemp_Mean'], cmap=plt.get_cmap(\"PuRd\"), colorbar=True)\n",
        "plt.show()"
      ],
      "metadata": {
        "id": "vkGDC-PVpPER",
        "outputId": "3465d038-1f80-4ab7-a800-613802bb4469",
        "colab": {
          "base_uri": "https://localhost:8080/",
          "height": 449
        }
      },
      "execution_count": 81,
      "outputs": [
        {
          "output_type": "display_data",
          "data": {
            "text/plain": [
              "<Figure size 640x480 with 2 Axes>"
            ],
            "image/png": "[encoded data removed]"
          },
          "metadata": {}
        }
      ]
    },
    {
      "cell_type": "code",
      "source": [
        "%matplotlib inline\n",
        "import matplotlib.pyplot as plt\n",
        "X_train_new.hist(bins=50, figsize=(10,10))\n",
        "plt.show()"
      ],
      "metadata": {
        "id": "3MRViV2nphA9",
        "outputId": "5166787a-6ae7-42a1-eb5f-6c7d225a5d19",
        "colab": {
          "base_uri": "https://localhost:8080/",
          "height": 853
        }
      },
      "execution_count": 82,
      "outputs": [
        {
          "output_type": "display_data",
          "data": {
            "text/plain": [
              "<Figure size 1000x1000 with 6 Axes>"
            ],
            "image/png": "[encoded data removed]"
          },
          "metadata": {}
        }
      ]
    },
    {
      "cell_type": "markdown",
      "source": [
        "###Step 6:\n",
        "\n",
        "Here was a moment to apply transformations."
      ],
      "metadata": {
        "id": "25da7wv9wcci"
      }
    },
    {
      "cell_type": "code",
      "source": [],
      "metadata": {
        "id": "LAo0kLZlwn4-"
      },
      "execution_count": null,
      "outputs": []
    }
  ]
}