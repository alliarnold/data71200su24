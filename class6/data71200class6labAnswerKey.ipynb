{
  "cells": [
    {
      "cell_type": "markdown",
      "metadata": {
        "id": "view-in-github",
        "colab_type": "text"
      },
      "source": [
        "<a href=\"https://colab.research.google.com/github/jcdevaney/data71200su24/blob/main/class6/data71200class6labAnswerKey.ipynb\" target=\"_parent\"><img src=\"https://colab.research.google.com/assets/colab-badge.svg\" alt=\"Open In Colab\"/></a>"
      ]
    },
    {
      "cell_type": "markdown",
      "source": [
        "# Load Libraries"
      ],
      "metadata": {
        "id": "P0_K6RTyeDXn"
      }
    },
    {
      "cell_type": "code",
      "execution_count": null,
      "metadata": {
        "id": "Ru5SKocjXTsJ"
      },
      "outputs": [],
      "source": [
        "%matplotlib inline\n",
        "import matplotlib.pyplot as plt\n",
        "import numpy as np\n",
        "import pandas as pd\n",
        "\n",
        "# import warnings\n",
        "# warnings.filterwarnings('ignore')\n",
        "\n",
        "# import six\n",
        "# import joblib\n",
        "# import sys\n",
        "# sys.modules['sklearn.externals.six'] = six\n",
        "# sys.modules['sklearn.externals.joblib'] = joblib\n",
        "# !pip install mglearn\n",
        "# import mglearn"
      ]
    },
    {
      "cell_type": "markdown",
      "source": [
        "# Load wine dataset"
      ],
      "metadata": {
        "id": "oVoyDLteeF4K"
      }
    },
    {
      "cell_type": "code",
      "source": [
        "from sklearn.datasets import load_wine\n",
        "dataset = load_wine()"
      ],
      "metadata": {
        "id": "jETaoxdgeBC0"
      },
      "execution_count": null,
      "outputs": []
    },
    {
      "cell_type": "markdown",
      "source": [
        "# Testing/Training Split"
      ],
      "metadata": {
        "id": "GiMafuJPei-D"
      }
    },
    {
      "cell_type": "code",
      "source": [
        "from sklearn.model_selection import train_test_split\n",
        "X_train, X_test, y_train, y_test = train_test_split(\n",
        "    dataset.data, dataset.target, stratify=dataset.target, random_state=66,test_size=0.2)"
      ],
      "metadata": {
        "id": "siC8ZjyQehCY"
      },
      "execution_count": null,
      "outputs": []
    },
    {
      "cell_type": "markdown",
      "metadata": {
        "id": "OkYHTOh9XTsL"
      },
      "source": [
        "# Naive Bayes Classifier"
      ]
    },
    {
      "cell_type": "code",
      "execution_count": null,
      "metadata": {
        "id": "4n67rRFpXTsL"
      },
      "outputs": [],
      "source": [
        "# https://scikit-learn.org/stable/modules/naive_bayes.html\n",
        "\n",
        "from sklearn.naive_bayes import GaussianNB"
      ]
    },
    {
      "cell_type": "markdown",
      "source": [
        "## Testing/Training Split Evaluation"
      ],
      "metadata": {
        "id": "1uejAr-OfSH7"
      }
    },
    {
      "cell_type": "code",
      "source": [
        "# Accuracy\n",
        "\n",
        "gnb = GaussianNB()\n",
        "gnb.fit(X_train, y_train)\n",
        "\n",
        "print(\"Training set score: {:.2f}\".format(gnb.score(X_train, y_train)))\n",
        "print(\"Test set score: {:.2f}\".format(gnb.score(X_test, y_test)))"
      ],
      "metadata": {
        "colab": {
          "base_uri": "https://localhost:8080/"
        },
        "id": "kApyrL89fXIM",
        "outputId": "a1430a7a-8dcc-4005-e02c-e7173a079f6e"
      },
      "execution_count": null,
      "outputs": [
        {
          "output_type": "stream",
          "name": "stdout",
          "text": [
            "Training set score: 0.98\n",
            "Test set score: 0.97\n"
          ]
        }
      ]
    },
    {
      "cell_type": "code",
      "execution_count": null,
      "metadata": {
        "id": "ZOvfsSukXTsM",
        "outputId": "cfed2313-3184-4169-83aa-36d30b3b55ca",
        "colab": {
          "base_uri": "https://localhost:8080/"
        }
      },
      "outputs": [
        {
          "output_type": "stream",
          "name": "stdout",
          "text": [
            "              precision    recall  f1-score   support\n",
            "\n",
            "     class 1       1.00      1.00      1.00        12\n",
            "     class 2       1.00      0.93      0.96        14\n",
            "     class 3       0.91      1.00      0.95        10\n",
            "\n",
            "    accuracy                           0.97        36\n",
            "   macro avg       0.97      0.98      0.97        36\n",
            "weighted avg       0.97      0.97      0.97        36\n",
            "\n"
          ]
        }
      ],
      "source": [
        "# Classification Report\n",
        "\n",
        "from sklearn.metrics import classification_report\n",
        "\n",
        "print(classification_report(y_test, gnb.predict(X_test),\n",
        "                            target_names=[\"class 1\", \"class 2\",\"class 3\"]))"
      ]
    },
    {
      "cell_type": "markdown",
      "source": [
        "## Cross Validation (from class 5 notebook)"
      ],
      "metadata": {
        "id": "2p11Whd7faUk"
      }
    },
    {
      "cell_type": "code",
      "source": [
        "from sklearn.model_selection import cross_val_score\n",
        "\n",
        "gnb_cv = GaussianNB()\n",
        "\n",
        "#5-fold cross validation\n",
        "cv_scores_all = cross_val_score(gnb_cv, dataset.data, dataset.target, cv=5)\n",
        "\n",
        "print(\"cv_scores:\\n{}\".format(cv_scores_all))\n",
        "print(\"cv_scores mean:\\n{}\".format(np.mean(cv_scores_all)))\n"
      ],
      "metadata": {
        "colab": {
          "base_uri": "https://localhost:8080/"
        },
        "id": "Y2EzIagee3D8",
        "outputId": "7b97253f-c431-45c0-aea9-19fb8dda037a"
      },
      "execution_count": null,
      "outputs": [
        {
          "output_type": "stream",
          "name": "stdout",
          "text": [
            "cv_scores:\n",
            "[0.94444444 0.97222222 0.97222222 0.94285714 1.        ]\n",
            "cv_scores mean:\n",
            "0.9663492063492063\n"
          ]
        }
      ]
    },
    {
      "cell_type": "markdown",
      "metadata": {
        "id": "_qJliL_4XTsM"
      },
      "source": [
        "# Random Forest"
      ]
    },
    {
      "cell_type": "code",
      "source": [
        "from sklearn.ensemble import RandomForestClassifier"
      ],
      "metadata": {
        "id": "1i5f--aqq4HB"
      },
      "execution_count": null,
      "outputs": []
    },
    {
      "cell_type": "markdown",
      "source": [
        "## Testing/Training Split Evaluation"
      ],
      "metadata": {
        "id": "BvJe4kM2orxg"
      }
    },
    {
      "cell_type": "code",
      "source": [
        "# Accuracy\n",
        "\n",
        "forest = RandomForestClassifier(n_estimators=5, random_state=2)\n",
        "\n",
        "forest = RandomForestClassifier(n_estimators=5, random_state=2)\n",
        "forest.fit(X_train, y_train)\n",
        "\n",
        "print(\"Accuracy on training set: {:.3f}\".format(forest.score(X_train, y_train)))\n",
        "print(\"Accuracy on test set: {:.3f}\".format(forest.score(X_test, y_test)))"
      ],
      "metadata": {
        "colab": {
          "base_uri": "https://localhost:8080/"
        },
        "id": "iTFvh-maotcj",
        "outputId": "be6cc1a4-f0de-480c-b510-7792b1521ed1"
      },
      "execution_count": null,
      "outputs": [
        {
          "output_type": "stream",
          "name": "stdout",
          "text": [
            "Accuracy on training set: 1.000\n",
            "Accuracy on test set: 0.917\n"
          ]
        }
      ]
    },
    {
      "cell_type": "code",
      "execution_count": null,
      "metadata": {
        "id": "eGSDB5oJXTsN",
        "outputId": "35a766f4-c396-4ce0-b87f-9b40979ddb67",
        "colab": {
          "base_uri": "https://localhost:8080/"
        }
      },
      "outputs": [
        {
          "output_type": "stream",
          "name": "stdout",
          "text": [
            "Accuracy on training set: 1.000\n",
            "Accuracy on test set: 0.917\n",
            "              precision    recall  f1-score   support\n",
            "\n",
            "     class 1       1.00      0.92      0.96        12\n",
            "     class 2       0.92      0.86      0.89        14\n",
            "     class 3       0.83      1.00      0.91        10\n",
            "\n",
            "    accuracy                           0.92        36\n",
            "   macro avg       0.92      0.92      0.92        36\n",
            "weighted avg       0.92      0.92      0.92        36\n",
            "\n"
          ]
        }
      ],
      "source": [
        "# Classification Report\n",
        "\n",
        "print(\"Accuracy on training set: {:.3f}\".format(forest.score(X_train, y_train)))\n",
        "print(\"Accuracy on test set: {:.3f}\".format(forest.score(X_test, y_test)))\n",
        "print(classification_report(y_test, forest.predict(X_test),\n",
        "                            target_names=[\"class 1\", \"class 2\",\"class 3\"]))"
      ]
    },
    {
      "cell_type": "markdown",
      "source": [
        "## Cross Validation"
      ],
      "metadata": {
        "id": "5M6xmNZ5ot85"
      }
    },
    {
      "cell_type": "code",
      "execution_count": null,
      "metadata": {
        "id": "oQ1-2oHZXTsM",
        "outputId": "bd78cd36-92b1-491c-e581-f4ca4dc38e34",
        "colab": {
          "base_uri": "https://localhost:8080/"
        }
      },
      "outputs": [
        {
          "output_type": "stream",
          "name": "stdout",
          "text": [
            "cv_scores:\n",
            "[0.88888889 0.86111111 0.97222222 0.94285714 0.94285714]\n",
            "cv_scores mean:\n",
            "0.9215873015873017\n"
          ]
        }
      ],
      "source": [
        "forest_cv = RandomForestClassifier(n_estimators=5, random_state=2)\n",
        "\n",
        "#5-fold cross validation\n",
        "cv_scores_forest = cross_val_score(forest_cv, dataset.data, dataset.target, cv=5)\n",
        "\n",
        "print(\"cv_scores:\\n{}\".format(cv_scores_forest))\n",
        "print(\"cv_scores mean:\\n{}\".format(np.mean(cv_scores_forest)))"
      ]
    },
    {
      "cell_type": "markdown",
      "source": [
        "## Feature Importances"
      ],
      "metadata": {
        "id": "RGG-Hp1LupPn"
      }
    },
    {
      "cell_type": "code",
      "execution_count": null,
      "metadata": {
        "id": "Y7jZrDwsXTsM",
        "outputId": "40140e40-e729-470a-c0f8-ee23f6848c2b",
        "colab": {
          "base_uri": "https://localhost:8080/"
        }
      },
      "outputs": [
        {
          "output_type": "stream",
          "name": "stdout",
          "text": [
            "Feature importances:\n",
            "[0.12291224 0.03731939 0.00391529 0.08087689 0.01276846 0.\n",
            " 0.21331461 0.0156036  0.0471268  0.05951766 0.10884462 0.09804357\n",
            " 0.19975687]\n"
          ]
        }
      ],
      "source": [
        "# print list of feature importances\n",
        "print(\"Feature importances:\")\n",
        "print(forest.feature_importances_)"
      ]
    },
    {
      "cell_type": "code",
      "execution_count": null,
      "metadata": {
        "id": "NlbDzZ5nXTsM",
        "outputId": "75e3ca5e-0954-4ae0-9e4a-ecd6515fdf1a",
        "colab": {
          "base_uri": "https://localhost:8080/",
          "height": 449
        }
      },
      "outputs": [
        {
          "output_type": "display_data",
          "data": {
            "text/plain": [
              "<Figure size 640x480 with 1 Axes>"
            ],
            "image/png": "[encoded data removed]"
          },
          "metadata": {}
        }
      ],
      "source": [
        "# plot feature importances\n",
        "# assume the scikit-learn dataset has been imported as dataset\n",
        "def plot_feature_importances(model):\n",
        "    n_features = dataset.data.shape[1]\n",
        "    plt.barh(np.arange(n_features), model.feature_importances_, align='center')\n",
        "    plt.yticks(np.arange(n_features), dataset.feature_names)\n",
        "    plt.xlabel(\"Feature importance\")\n",
        "    plt.ylabel(\"Feature\")\n",
        "    plt.ylim(-1, n_features)\n",
        "\n",
        "plot_feature_importances(forest)"
      ]
    },
    {
      "cell_type": "markdown",
      "source": [
        "# Support Vector Machines"
      ],
      "metadata": {
        "id": "6bv_A-MRvWNK"
      }
    },
    {
      "cell_type": "code",
      "source": [
        "from sklearn.svm import SVC"
      ],
      "metadata": {
        "id": "2HBqLogavYCN"
      },
      "execution_count": null,
      "outputs": []
    },
    {
      "cell_type": "markdown",
      "source": [
        "## Testing/Training Split Evaluation"
      ],
      "metadata": {
        "id": "0DjXhRjIvZtY"
      }
    },
    {
      "cell_type": "code",
      "source": [
        "# polynomial kernel\n",
        "# accuracy\n",
        "svmPoly1 = SVC(kernel='poly', C=10).fit(X_train, y_train)\n",
        "\n",
        "print(\"Accuracy on training set: {:.2f}\".format(svmPoly1.score(X_train, y_train)))\n",
        "print(\"Accuracy on test set: {:.2f}\".format(svmPoly1.score(X_test, y_test)))"
      ],
      "metadata": {
        "colab": {
          "base_uri": "https://localhost:8080/"
        },
        "id": "-UD6-txAvdYe",
        "outputId": "5cbbf547-a529-45ea-d280-a6d7c5a8833f"
      },
      "execution_count": null,
      "outputs": [
        {
          "output_type": "stream",
          "name": "stdout",
          "text": [
            "Accuracy on training set: 0.70\n",
            "Accuracy on test set: 0.69\n"
          ]
        }
      ]
    },
    {
      "cell_type": "code",
      "source": [
        "# polynomial kernel\n",
        "# classification report\n",
        "print(\"Accuracy on training set: {:.3f}\".format(svmPoly1.score(X_train, y_train)))\n",
        "print(\"Accuracy on test set: {:.3f}\".format(svmPoly1.score(X_test, y_test)))\n",
        "print(classification_report(y_test, svmPoly1.predict(X_test),\n",
        "                            target_names=[\"class 1\", \"class 2\",\"class 3\"]))"
      ],
      "metadata": {
        "colab": {
          "base_uri": "https://localhost:8080/"
        },
        "id": "v4BCpcy2wxTa",
        "outputId": "7d3840c7-d473-4cb8-bcc1-1141142a917c"
      },
      "execution_count": null,
      "outputs": [
        {
          "output_type": "stream",
          "name": "stdout",
          "text": [
            "Accuracy on training set: 0.697\n",
            "Accuracy on test set: 0.694\n",
            "              precision    recall  f1-score   support\n",
            "\n",
            "     class 1       0.75      0.75      0.75        12\n",
            "     class 2       0.73      0.79      0.76        14\n",
            "     class 3       0.56      0.50      0.53        10\n",
            "\n",
            "    accuracy                           0.69        36\n",
            "   macro avg       0.68      0.68      0.68        36\n",
            "weighted avg       0.69      0.69      0.69        36\n",
            "\n"
          ]
        }
      ]
    },
    {
      "cell_type": "code",
      "source": [
        "# radial basis function kernel\n",
        "svmRBF1 = SVC(kernel='rbf', C=10, gamma=0.1).fit(X_train, y_train)\n",
        "\n",
        "print(\"Accuracy on training set: {:.2f}\".format(svmRBF1.score(X_train, y_train)))\n",
        "print(\"Accuracy on test set: {:.2f}\".format(svmRBF1.score(X_test, y_test)))"
      ],
      "metadata": {
        "colab": {
          "base_uri": "https://localhost:8080/"
        },
        "id": "ly7UZQH2w00t",
        "outputId": "9d16d0c5-220f-4152-ad1f-8851e6993ed6"
      },
      "execution_count": null,
      "outputs": [
        {
          "output_type": "stream",
          "name": "stdout",
          "text": [
            "Accuracy on training set: 1.00\n",
            "Accuracy on test set: 0.44\n"
          ]
        }
      ]
    },
    {
      "cell_type": "code",
      "source": [
        "# radial basis function kernel\n",
        "# classification report\n",
        "print(\"Accuracy on training set: {:.3f}\".format(svmRBF1.score(X_train, y_train)))\n",
        "print(\"Accuracy on test set: {:.3f}\".format(svmRBF1.score(X_test, y_test)))\n",
        "print(classification_report(y_test, svmRBF1.predict(X_test),\n",
        "                            target_names=[\"class 1\", \"class 2\",\"class 3\"]))"
      ],
      "metadata": {
        "colab": {
          "base_uri": "https://localhost:8080/"
        },
        "id": "dH6DC45V0nFP",
        "outputId": "f6288277-9759-400e-d306-3bc3437c965b"
      },
      "execution_count": null,
      "outputs": [
        {
          "output_type": "stream",
          "name": "stdout",
          "text": [
            "Accuracy on training set: 0.697\n",
            "Accuracy on test set: 0.694\n",
            "              precision    recall  f1-score   support\n",
            "\n",
            "     class 1       0.75      0.75      0.75        12\n",
            "     class 2       0.73      0.79      0.76        14\n",
            "     class 3       0.56      0.50      0.53        10\n",
            "\n",
            "    accuracy                           0.69        36\n",
            "   macro avg       0.68      0.68      0.68        36\n",
            "weighted avg       0.69      0.69      0.69        36\n",
            "\n"
          ]
        }
      ]
    },
    {
      "cell_type": "markdown",
      "source": [
        "## Parameter Selection with Grid Search\n"
      ],
      "metadata": {
        "id": "KNsayGqTveAC"
      }
    },
    {
      "cell_type": "code",
      "source": [
        "# import StratifiedShuffleSplit\n",
        "from sklearn.model_selection import StratifiedShuffleSplit\n",
        "cv = StratifiedShuffleSplit(n_splits=5, test_size=0.2, random_state=42)\n",
        "\n",
        "# import GridSearchCV and set ranges for C and gamma and create the paramter grid\n",
        "from sklearn.model_selection import GridSearchCV\n",
        "C_range = np.logspace(-2, 10, 13)\n",
        "gamma_range = np.logspace(-9, 3, 13)\n",
        "param_grid = dict(gamma=gamma_range, C=C_range)"
      ],
      "metadata": {
        "id": "3kTarj2S12Db"
      },
      "execution_count": null,
      "outputs": []
    },
    {
      "cell_type": "code",
      "source": [
        "# polynomial kernel\n",
        "gridPoly = GridSearchCV(SVC(kernel='poly'), param_grid=param_grid, cv=cv)\n",
        "gridPoly.fit(X_train, y_train)\n",
        "\n",
        "print(\"The best parameters are %s with a score of %0.2f\"\n",
        "      % (gridPoly.best_params_, gridPoly.best_score_))"
      ],
      "metadata": {
        "colab": {
          "base_uri": "https://localhost:8080/"
        },
        "id": "XxHmFVlMvhDj",
        "outputId": "51c4aedb-6b83-4c44-f831-0bed22147b72"
      },
      "execution_count": null,
      "outputs": [
        {
          "output_type": "stream",
          "name": "stdout",
          "text": [
            "The best parameters are {'C': 1.0, 'gamma': 0.0001} with a score of 0.94\n"
          ]
        }
      ]
    },
    {
      "cell_type": "code",
      "source": [
        "# radial basis function kernel\n",
        "gridPoly = GridSearchCV(SVC(kernel='rbf'), param_grid=param_grid, cv=cv)\n",
        "gridPoly.fit(X_train, y_train)\n",
        "\n",
        "print(\"The best parameters are %s with a score of %0.2f\"\n",
        "      % (gridPoly.best_params_, gridPoly.best_score_))"
      ],
      "metadata": {
        "colab": {
          "base_uri": "https://localhost:8080/"
        },
        "id": "aZ2Y3W3630Mz",
        "outputId": "c6e161c0-344e-4be2-c903-00c4430707f1"
      },
      "execution_count": null,
      "outputs": [
        {
          "output_type": "stream",
          "name": "stdout",
          "text": [
            "The best parameters are {'C': 100000000.0, 'gamma': 1e-08} with a score of 0.93\n"
          ]
        }
      ]
    },
    {
      "cell_type": "markdown",
      "source": [
        "## Feature Scaling"
      ],
      "metadata": {
        "id": "R9-r7OtTfBPj"
      }
    },
    {
      "cell_type": "markdown",
      "source": [
        "### Scale the Features"
      ],
      "metadata": {
        "id": "wNMYvIckfqhP"
      }
    },
    {
      "cell_type": "code",
      "source": [
        "# Compute the minimum value per feature on the training set\n",
        "min_on_training = X_train.min(axis=0)\n",
        "\n",
        "# Compute the range of each feature (max - min) on the training set\n",
        "range_on_training = (X_train - min_on_training).max(axis=0)\n",
        "\n",
        "# subtract the min, divide by range\n",
        "# afterward, min=0 and max=1 for each feature\n",
        "X_train_scaled = (X_train - min_on_training) / range_on_training\n",
        "print(\"Minimum for each feature\\n\", X_train_scaled.min(axis=0))\n",
        "print(\"Maximum for each feature\\n\", X_train_scaled.max(axis=0))"
      ],
      "metadata": {
        "colab": {
          "base_uri": "https://localhost:8080/"
        },
        "id": "facFAG5ke-3b",
        "outputId": "f808e28d-15fd-4e29-ad2c-3c3de93dc921"
      },
      "execution_count": 35,
      "outputs": [
        {
          "output_type": "stream",
          "name": "stdout",
          "text": [
            "Minimum for each feature\n",
            " [0. 0. 0. 0. 0. 0. 0. 0. 0. 0. 0. 0. 0.]\n",
            "Maximum for each feature\n",
            " [1. 1. 1. 1. 1. 1. 1. 1. 1. 1. 1. 1. 1.]\n"
          ]
        }
      ]
    },
    {
      "cell_type": "code",
      "source": [
        "# use THE SAME transformation on the test set,\n",
        "# using min and range of the training set. See Chapter 3 (unsupervised learning) for details.\n",
        "X_test_scaled = (X_test - min_on_training) / range_on_training"
      ],
      "metadata": {
        "id": "J15eyxgte9BL"
      },
      "execution_count": 36,
      "outputs": []
    },
    {
      "cell_type": "markdown",
      "source": [
        "### Run Grid Search with the Polynomial Kernel with Scaled Features"
      ],
      "metadata": {
        "id": "JlJAGOKEfwdh"
      }
    },
    {
      "cell_type": "code",
      "source": [
        "# run grid search\n",
        "gridPoly2 = GridSearchCV(SVC(kernel='poly'), param_grid=param_grid, cv=cv)\n",
        "gridPoly2.fit(X_train_scaled, y_train)\n",
        "\n",
        "# print the best parameters\n",
        "print(\"The best parameters are %s with a score of %0.2f\"\n",
        "      % (gridPoly2.best_params_, gridPoly2.best_score_))"
      ],
      "metadata": {
        "colab": {
          "base_uri": "https://localhost:8080/"
        },
        "id": "h0As1YUae-J2",
        "outputId": "a3dcc132-0c10-4d70-b82a-398927a86af9"
      },
      "execution_count": 37,
      "outputs": [
        {
          "output_type": "stream",
          "name": "stdout",
          "text": [
            "The best parameters are {'C': 0.01, 'gamma': 10.0} with a score of 0.95\n"
          ]
        }
      ]
    },
    {
      "cell_type": "markdown",
      "source": [
        "### Run the Poly SVM on the Scaled Features with the Best Parameters and Print the Results"
      ],
      "metadata": {
        "id": "Wc3ytyEmgAOu"
      }
    },
    {
      "cell_type": "code",
      "source": [
        "svmPolyScaled = SVC(kernel='poly', C=0.1, gamma=10).fit(X_train_scaled, y_train)\n",
        "\n",
        "print('Scaled Features')\n",
        "print(\"Accuracy on training set: {:.3f}\".format(\n",
        "        svmPolyScaled.score(X_train_scaled, y_train)))\n",
        "print(\"Accuracy on test set: {:.3f}\".format(svmPolyScaled.score(X_test_scaled, y_test)))"
      ],
      "metadata": {
        "colab": {
          "base_uri": "https://localhost:8080/"
        },
        "id": "plwWlIW6fTlA",
        "outputId": "f96b3793-7d20-4721-9c2a-693f465bbd9a"
      },
      "execution_count": 40,
      "outputs": [
        {
          "output_type": "stream",
          "name": "stdout",
          "text": [
            "Scaled Features\n",
            "Accuracy on training set: 1.000\n",
            "Accuracy on test set: 0.972\n"
          ]
        }
      ]
    },
    {
      "cell_type": "markdown",
      "source": [
        "### Run Grid Search with the RBF Kernel with Scaled Features"
      ],
      "metadata": {
        "id": "5FOeYRTUgNqd"
      }
    },
    {
      "cell_type": "code",
      "source": [
        "# run grid search\n",
        "gridRBF2 = GridSearchCV(SVC(kernel='rbf'), param_grid=param_grid, cv=cv)\n",
        "gridRBF2.fit(X_train_scaled, y_train)\n",
        "\n",
        "# print the best parameters\n",
        "print(\"The best parameters are %s with a score of %0.2f\"\n",
        "      % (gridRBF2.best_params_, gridRBF2.best_score_))"
      ],
      "metadata": {
        "colab": {
          "base_uri": "https://localhost:8080/"
        },
        "id": "aIUqxy1TfeVS",
        "outputId": "c81ed845-7114-4cf3-8ab4-7e39e8ed7868"
      },
      "execution_count": 41,
      "outputs": [
        {
          "output_type": "stream",
          "name": "stdout",
          "text": [
            "The best parameters are {'C': 1.0, 'gamma': 0.1} with a score of 0.97\n"
          ]
        }
      ]
    },
    {
      "cell_type": "markdown",
      "source": [
        "### Run the RBF SVM on the Scaled Features with the Best Paramters and Print the Results"
      ],
      "metadata": {
        "id": "8pHnY8vZgKdK"
      }
    },
    {
      "cell_type": "code",
      "source": [
        "svmRBFscaled = SVC(kernel='rbf', C=10000000.0, gamma=1e-06, probability=True).fit(X_train_scaled, y_train)\n",
        "\n",
        "print('Scaled Features')\n",
        "print(\"Accuracy on training set: {:.3f}\".format(\n",
        "        svmRBFscaled.score(X_train_scaled, y_train)))\n",
        "print(\"Accuracy on test set: {:.3f}\".format(svmRBFscaled.score(X_test_scaled, y_test)))"
      ],
      "metadata": {
        "colab": {
          "base_uri": "https://localhost:8080/"
        },
        "id": "Tuo5kL01fhLs",
        "outputId": "c4e42949-b498-43c3-9ddd-83ec05c2934a"
      },
      "execution_count": 42,
      "outputs": [
        {
          "output_type": "stream",
          "name": "stdout",
          "text": [
            "Scaled Features\n",
            "Accuracy on training set: 1.000\n",
            "Accuracy on test set: 1.000\n"
          ]
        }
      ]
    }
  ],
  "metadata": {
    "kernelspec": {
      "display_name": "Python 3",
      "language": "python",
      "name": "python3"
    },
    "language_info": {
      "codemirror_mode": {
        "name": "ipython",
        "version": 3
      },
      "file_extension": ".py",
      "mimetype": "text/x-python",
      "name": "python",
      "nbconvert_exporter": "python",
      "pygments_lexer": "ipython3",
      "version": "3.6.13"
    },
    "colab": {
      "provenance": [],
      "include_colab_link": true
    }
  },
  "nbformat": 4,
  "nbformat_minor": 0
}