{
  "cells": [
    {
      "cell_type": "markdown",
      "metadata": {
        "id": "view-in-github",
        "colab_type": "text"
      },
      "source": [
        "<a href=\"https://colab.research.google.com/github/jcdevaney/data71200su24/blob/main/class6/data71200class6b.ipynb\" target=\"_parent\"><img src=\"https://colab.research.google.com/assets/colab-badge.svg\" alt=\"Open In Colab\"/></a>"
      ]
    },
    {
      "cell_type": "code",
      "execution_count": null,
      "metadata": {
        "id": "AJX6pVtxXZfd",
        "outputId": "3de2fa53-a648-4db0-826c-6cee727a167f",
        "colab": {
          "base_uri": "https://localhost:8080/"
        }
      },
      "outputs": [
        {
          "output_type": "stream",
          "name": "stdout",
          "text": [
            "Collecting mglearn\n",
            "  Downloading mglearn-0.2.0-py2.py3-none-any.whl (581 kB)\n",
            "\u001b[2K     \u001b[90m━━━━━━━━━━━━━━━━━━━━━━━━━━━━━━━━━━━━━━━━\u001b[0m \u001b[32m581.4/581.4 kB\u001b[0m \u001b[31m2.9 MB/s\u001b[0m eta \u001b[36m0:00:00\u001b[0m\n",
            "\u001b[?25hRequirement already satisfied: numpy in /usr/local/lib/python3.10/dist-packages (from mglearn) (1.25.2)\n",
            "Requirement already satisfied: matplotlib in /usr/local/lib/python3.10/dist-packages (from mglearn) (3.7.1)\n",
            "Requirement already satisfied: scikit-learn in /usr/local/lib/python3.10/dist-packages (from mglearn) (1.2.2)\n",
            "Requirement already satisfied: pandas in /usr/local/lib/python3.10/dist-packages (from mglearn) (2.0.3)\n",
            "Requirement already satisfied: pillow in /usr/local/lib/python3.10/dist-packages (from mglearn) (9.4.0)\n",
            "Requirement already satisfied: cycler in /usr/local/lib/python3.10/dist-packages (from mglearn) (0.12.1)\n",
            "Requirement already satisfied: imageio in /usr/local/lib/python3.10/dist-packages (from mglearn) (2.31.6)\n",
            "Requirement already satisfied: joblib in /usr/local/lib/python3.10/dist-packages (from mglearn) (1.4.2)\n",
            "Requirement already satisfied: contourpy>=1.0.1 in /usr/local/lib/python3.10/dist-packages (from matplotlib->mglearn) (1.2.1)\n",
            "Requirement already satisfied: fonttools>=4.22.0 in /usr/local/lib/python3.10/dist-packages (from matplotlib->mglearn) (4.53.0)\n",
            "Requirement already satisfied: kiwisolver>=1.0.1 in /usr/local/lib/python3.10/dist-packages (from matplotlib->mglearn) (1.4.5)\n",
            "Requirement already satisfied: packaging>=20.0 in /usr/local/lib/python3.10/dist-packages (from matplotlib->mglearn) (24.1)\n",
            "Requirement already satisfied: pyparsing>=2.3.1 in /usr/local/lib/python3.10/dist-packages (from matplotlib->mglearn) (3.1.2)\n",
            "Requirement already satisfied: python-dateutil>=2.7 in /usr/local/lib/python3.10/dist-packages (from matplotlib->mglearn) (2.8.2)\n",
            "Requirement already satisfied: pytz>=2020.1 in /usr/local/lib/python3.10/dist-packages (from pandas->mglearn) (2023.4)\n",
            "Requirement already satisfied: tzdata>=2022.1 in /usr/local/lib/python3.10/dist-packages (from pandas->mglearn) (2024.1)\n",
            "Requirement already satisfied: scipy>=1.3.2 in /usr/local/lib/python3.10/dist-packages (from scikit-learn->mglearn) (1.11.4)\n",
            "Requirement already satisfied: threadpoolctl>=2.0.0 in /usr/local/lib/python3.10/dist-packages (from scikit-learn->mglearn) (3.5.0)\n",
            "Requirement already satisfied: six>=1.5 in /usr/local/lib/python3.10/dist-packages (from python-dateutil>=2.7->matplotlib->mglearn) (1.16.0)\n",
            "Installing collected packages: mglearn\n",
            "Successfully installed mglearn-0.2.0\n"
          ]
        }
      ],
      "source": [
        "%matplotlib inline\n",
        "import matplotlib.pyplot as plt\n",
        "import numpy as np\n",
        "import pandas as pd\n",
        "\n",
        "import warnings\n",
        "warnings.filterwarnings('ignore')\n",
        "\n",
        "import six\n",
        "import joblib\n",
        "import sys\n",
        "sys.modules['sklearn.externals.six'] = six\n",
        "sys.modules['sklearn.externals.joblib'] = joblib\n",
        "!pip install mglearn\n",
        "import mglearn"
      ]
    },
    {
      "cell_type": "markdown",
      "metadata": {
        "id": "BiIMgSJ7XZff"
      },
      "source": [
        "# Support Vector Machines"
      ]
    },
    {
      "cell_type": "code",
      "execution_count": null,
      "metadata": {
        "id": "2RJQ0YP-XZff"
      },
      "outputs": [],
      "source": [
        "from sklearn.svm import SVC\n",
        "from sklearn.model_selection import StratifiedShuffleSplit\n",
        "from sklearn.datasets import load_iris\n",
        "\n",
        "# load Iris dataset\n",
        "iris = load_iris()\n",
        "\n",
        "\n",
        "\n",
        "split = StratifiedShuffleSplit(n_splits=1, test_size=0.2, random_state=42)\n",
        "for train_index, test_index in split.split(iris.data, iris.target):\n",
        "    X_train = iris.data[train_index]\n",
        "    X_test = iris.data[test_index]\n",
        "    y_train = iris.target[train_index]\n",
        "    y_test = iris.target[test_index]"
      ]
    },
    {
      "cell_type": "code",
      "execution_count": null,
      "metadata": {
        "scrolled": true,
        "id": "KnfgjKajXZff",
        "outputId": "5a8dfbbf-bfe0-4afa-90ac-3e84e5679b1f",
        "colab": {
          "base_uri": "https://localhost:8080/"
        }
      },
      "outputs": [
        {
          "output_type": "stream",
          "name": "stdout",
          "text": [
            "Accuracy on training set: 0.97\n",
            "Accuracy on test set: 1.00\n"
          ]
        }
      ],
      "source": [
        "# polynomial kernel\n",
        "svmPoly1 = SVC(kernel='poly', C=10).fit(X_train, y_train)\n",
        "\n",
        "print(\"Accuracy on training set: {:.2f}\".format(svmPoly1.score(X_train, y_train)))\n",
        "print(\"Accuracy on test set: {:.2f}\".format(svmPoly1.score(X_test, y_test)))"
      ]
    },
    {
      "cell_type": "code",
      "execution_count": null,
      "metadata": {
        "id": "nW4dt945XZfg",
        "outputId": "8db1b0ca-6efa-47a3-f163-1122b64133fd",
        "colab": {
          "base_uri": "https://localhost:8080/"
        }
      },
      "outputs": [
        {
          "output_type": "stream",
          "name": "stdout",
          "text": [
            "Accuracy on training set: 0.98\n",
            "Accuracy on test set: 1.00\n"
          ]
        }
      ],
      "source": [
        "# radial basis function kernel\n",
        "svmRBF1 = SVC(kernel='rbf', C=10, gamma=0.1).fit(X_train, y_train)\n",
        "\n",
        "print(\"Accuracy on training set: {:.2f}\".format(svmRBF1.score(X_train, y_train)))\n",
        "print(\"Accuracy on test set: {:.2f}\".format(svmRBF1.score(X_test, y_test)))"
      ]
    },
    {
      "cell_type": "markdown",
      "metadata": {
        "id": "woTGPwSMXZfg"
      },
      "source": [
        "## Parameter Tuning  "
      ]
    },
    {
      "cell_type": "code",
      "execution_count": null,
      "metadata": {
        "id": "iNKzHg7lXZfg",
        "outputId": "1b12a1dd-7922-4d40-d67f-eb7592f36736",
        "colab": {
          "base_uri": "https://localhost:8080/"
        }
      },
      "outputs": [
        {
          "output_type": "stream",
          "name": "stdout",
          "text": [
            "Accuracy on training set: 0.91\n",
            "Accuracy on test set: 0.90\n"
          ]
        }
      ],
      "source": [
        "# constrained model (low C and low gamma)\n",
        "svmRBF2 = SVC(kernel='rbf', C=0.1).fit(X_train, y_train)\n",
        "\n",
        "print(\"Accuracy on training set: {:.2f}\".format(svmRBF2.score(X_train, y_train)))\n",
        "print(\"Accuracy on test set: {:.2f}\".format(svmRBF2.score(X_test, y_test)))"
      ]
    },
    {
      "cell_type": "code",
      "execution_count": null,
      "metadata": {
        "scrolled": true,
        "id": "APGvObRdXZfg",
        "outputId": "3097a231-a793-4c0d-cef2-36d239890bea",
        "colab": {
          "base_uri": "https://localhost:8080/"
        }
      },
      "outputs": [
        {
          "output_type": "stream",
          "name": "stdout",
          "text": [
            "Accuracy on training set: 1.00\n",
            "Accuracy on test set: 0.90\n"
          ]
        }
      ],
      "source": [
        "# constrained model (low C and low gamma)\n",
        "svmRBF3 = SVC(kernel='rbf', C=1000, gamma=10).fit(X_train, y_train)\n",
        "\n",
        "print(\"Accuracy on training set: {:.2f}\".format(svmRBF3.score(X_train, y_train)))\n",
        "print(\"Accuracy on test set: {:.2f}\".format(svmRBF3.score(X_test, y_test)))"
      ]
    },
    {
      "cell_type": "markdown",
      "metadata": {
        "id": "cMVCLjwWXZfg"
      },
      "source": [
        "## Balanced Cross-Validation Split and Grid Search"
      ]
    },
    {
      "cell_type": "code",
      "execution_count": null,
      "metadata": {
        "id": "SfykXbIwXZfg"
      },
      "outputs": [],
      "source": [
        "from sklearn.model_selection import StratifiedShuffleSplit\n",
        "cv = StratifiedShuffleSplit(n_splits=5, test_size=0.2, random_state=42)"
      ]
    },
    {
      "cell_type": "code",
      "execution_count": null,
      "metadata": {
        "id": "zG8l2g89XZfh"
      },
      "outputs": [],
      "source": [
        "from sklearn.model_selection import GridSearchCV\n",
        "C_range = np.logspace(-2, 10, 13)\n",
        "gamma_range = np.logspace(-9, 3, 13)\n",
        "param_grid = dict(gamma=gamma_range, C=C_range)"
      ]
    },
    {
      "cell_type": "code",
      "execution_count": null,
      "metadata": {
        "id": "0CZU7NPVXZfh",
        "outputId": "bb77828d-b246-4ca3-db8a-bb3345846658",
        "colab": {
          "base_uri": "https://localhost:8080/"
        }
      },
      "outputs": [
        {
          "output_type": "stream",
          "name": "stdout",
          "text": [
            "The best parameters are {'C': 0.1, 'gamma': 0.1} with a score of 0.97\n"
          ]
        }
      ],
      "source": [
        "# polynomial kernel\n",
        "gridPoly = GridSearchCV(SVC(kernel='poly'), param_grid=param_grid, cv=cv)\n",
        "gridPoly.fit(X_train, y_train)\n",
        "\n",
        "print(\"The best parameters are %s with a score of %0.2f\"\n",
        "      % (gridPoly.best_params_, gridPoly.best_score_))\n"
      ]
    },
    {
      "cell_type": "code",
      "execution_count": null,
      "metadata": {
        "id": "Kp3aIwkjXZfh",
        "outputId": "1099983a-c553-4f62-c926-46272c076727",
        "colab": {
          "base_uri": "https://localhost:8080/"
        }
      },
      "outputs": [
        {
          "output_type": "stream",
          "name": "stdout",
          "text": [
            "Accuracy on training set: 0.97\n",
            "Accuracy on test set: 0.97\n"
          ]
        }
      ],
      "source": [
        "# polynomial kernel\n",
        "svmPolyGrid = SVC(kernel='poly', C=0.1, gamma=0.1).fit(X_train, y_train)\n",
        "\n",
        "print(\"Accuracy on training set: {:.2f}\".format(svmPolyGrid.score(X_train, y_train)))\n",
        "print(\"Accuracy on test set: {:.2f}\".format(svmPolyGrid.score(X_test, y_test)))"
      ]
    },
    {
      "cell_type": "code",
      "execution_count": null,
      "metadata": {
        "id": "RjYfiI-XXZfh",
        "outputId": "e4517ac1-ad3d-405a-febe-a9cc884fe2a0",
        "colab": {
          "base_uri": "https://localhost:8080/"
        }
      },
      "outputs": [
        {
          "output_type": "stream",
          "name": "stdout",
          "text": [
            "The best parameters are {'C': 1.0, 'gamma': 0.1} with a score of 0.97\n"
          ]
        }
      ],
      "source": [
        "#rbf kernel\n",
        "gridRBF = GridSearchCV(SVC(kernel='rbf'), param_grid=param_grid, cv=cv)\n",
        "gridRBF.fit(X_train, y_train)\n",
        "\n",
        "print(\"The best parameters are %s with a score of %0.2f\"\n",
        "      % (gridRBF.best_params_, gridRBF.best_score_))"
      ]
    },
    {
      "cell_type": "code",
      "execution_count": null,
      "metadata": {
        "id": "614pjvwYXZfh",
        "outputId": "0d9d6e5f-7dbe-426e-d52b-f7a1813902e5",
        "colab": {
          "base_uri": "https://localhost:8080/"
        }
      },
      "outputs": [
        {
          "output_type": "stream",
          "name": "stdout",
          "text": [
            "Accuracy on training set: 0.98\n",
            "Accuracy on test set: 0.93\n"
          ]
        }
      ],
      "source": [
        "svmRBFgrid = SVC(kernel='rbf', C=1, gamma=0.1).fit(X_train, y_train)\n",
        "\n",
        "print(\"Accuracy on training set: {:.2f}\".format(svmRBFgrid.score(X_train, y_train)))\n",
        "print(\"Accuracy on test set: {:.2f}\".format(svmRBFgrid.score(X_test, y_test)))"
      ]
    },
    {
      "cell_type": "markdown",
      "metadata": {
        "id": "ONWUsxXnXZfh"
      },
      "source": [
        "## Feature Scaling"
      ]
    },
    {
      "cell_type": "code",
      "execution_count": null,
      "metadata": {
        "id": "fW7cOIJaXZfh",
        "outputId": "3ccc6556-a462-4076-d6aa-2ea8f3ad2fbf",
        "colab": {
          "base_uri": "https://localhost:8080/",
          "height": 467
        }
      },
      "outputs": [
        {
          "output_type": "execute_result",
          "data": {
            "text/plain": [
              "Text(0, 0.5, 'Feature magnitude')"
            ]
          },
          "metadata": {},
          "execution_count": 13
        },
        {
          "output_type": "display_data",
          "data": {
            "text/plain": [
              "<Figure size 640x480 with 1 Axes>"
            ],
            "image/png": "[encoded data removed]"
          },
          "metadata": {}
        }
      ],
      "source": [
        "plt.boxplot(X_train)\n",
        "plt.yscale(\"symlog\")\n",
        "plt.xlabel(\"Feature index\")\n",
        "plt.ylabel(\"Feature magnitude\")"
      ]
    },
    {
      "cell_type": "code",
      "execution_count": null,
      "metadata": {
        "id": "JlueqOw2XZfi",
        "outputId": "f01a4fa6-1151-4fba-f0fa-6f158770a7b1",
        "colab": {
          "base_uri": "https://localhost:8080/"
        }
      },
      "outputs": [
        {
          "output_type": "stream",
          "name": "stdout",
          "text": [
            "Minimum for each feature\n",
            " [0. 0. 0. 0.]\n",
            "Maximum for each feature\n",
            " [1. 1. 1. 1.]\n"
          ]
        }
      ],
      "source": [
        "# Compute the minimum value per feature on the training set\n",
        "min_on_training = X_train.min(axis=0)\n",
        "\n",
        "# Compute the range of each feature (max - min) on the training set\n",
        "range_on_training = (X_train - min_on_training).max(axis=0)\n",
        "\n",
        "# subtract the min, divide by range\n",
        "# afterward, min=0 and max=1 for each feature\n",
        "X_train_scaled = (X_train - min_on_training) / range_on_training\n",
        "print(\"Minimum for each feature\\n\", X_train_scaled.min(axis=0))\n",
        "print(\"Maximum for each feature\\n\", X_train_scaled.max(axis=0))"
      ]
    },
    {
      "cell_type": "code",
      "execution_count": null,
      "metadata": {
        "id": "YShvnkDsXZfi"
      },
      "outputs": [],
      "source": [
        "# use THE SAME transformation on the test set,\n",
        "# using min and range of the training set. See Chapter 3 (unsupervised learning) for details.\n",
        "X_test_scaled = (X_test - min_on_training) / range_on_training"
      ]
    },
    {
      "cell_type": "markdown",
      "metadata": {
        "id": "nN9aWvFVXZfi"
      },
      "source": [
        "### Default Parameters"
      ]
    },
    {
      "cell_type": "code",
      "execution_count": null,
      "metadata": {
        "id": "q18GKFewXZfi",
        "outputId": "d4983ea3-2f35-4dac-de71-9d6e1199307a",
        "colab": {
          "base_uri": "https://localhost:8080/"
        }
      },
      "outputs": [
        {
          "output_type": "stream",
          "name": "stdout",
          "text": [
            "Original Features\n",
            "Accuracy on training set: 0.975\n",
            "Accuracy on test set: 0.967\n",
            "\n",
            "Scaled Features\n",
            "Accuracy on training set: 0.633\n",
            "Accuracy on test set: 0.700\n"
          ]
        }
      ],
      "source": [
        "# Polynomial Kernel\n",
        "\n",
        "print('Original Features')\n",
        "print(\"Accuracy on training set: {:.3f}\".format(\n",
        "        svmPolyGrid.score(X_train, y_train)))\n",
        "print(\"Accuracy on test set: {:.3f}\\n\".format(svmPolyGrid.score(X_test, y_test)))\n",
        "\n",
        "svmPolyScaled = SVC(kernel='poly', C=0.1, gamma=0.1).fit(X_train_scaled, y_train)\n",
        "\n",
        "print('Scaled Features')\n",
        "print(\"Accuracy on training set: {:.3f}\".format(\n",
        "        svmPolyScaled.score(X_train_scaled, y_train)))\n",
        "print(\"Accuracy on test set: {:.3f}\".format(svmPolyScaled.score(X_test_scaled, y_test)))"
      ]
    },
    {
      "cell_type": "code",
      "execution_count": null,
      "metadata": {
        "id": "HYd_O_nbXZfi",
        "outputId": "bcb1c29a-d85a-44fb-ca6a-a584e38f73df",
        "colab": {
          "base_uri": "https://localhost:8080/"
        }
      },
      "outputs": [
        {
          "output_type": "stream",
          "name": "stdout",
          "text": [
            "Original Features\n",
            "Accuracy on training set: 0.983\n",
            "Accuracy on test set: 0.933\n",
            "\n",
            "Scaled Features\n",
            "Accuracy on training set: 0.958\n",
            "Accuracy on test set: 0.900\n"
          ]
        }
      ],
      "source": [
        "# Radial Basis Function Kernel\n",
        "\n",
        "print('Original Features')\n",
        "print(\"Accuracy on training set: {:.3f}\".format(\n",
        "        svmRBFgrid.score(X_train, y_train)))\n",
        "print(\"Accuracy on test set: {:.3f}\\n\".format(svmRBFgrid.score(X_test, y_test)))\n",
        "\n",
        "svmRBFscaled = SVC(kernel='rbf', C=1, gamma=0.1).fit(X_train_scaled, y_train)\n",
        "\n",
        "print('Scaled Features')\n",
        "print(\"Accuracy on training set: {:.3f}\".format(\n",
        "        svmRBFscaled.score(X_train_scaled, y_train)))\n",
        "print(\"Accuracy on test set: {:.3f}\".format(svmRBFscaled.score(X_test_scaled, y_test)))"
      ]
    },
    {
      "cell_type": "markdown",
      "metadata": {
        "id": "3H7AwpGDXZfi"
      },
      "source": [
        "### Optimal Parameters"
      ]
    },
    {
      "cell_type": "code",
      "execution_count": null,
      "metadata": {
        "id": "Th5fmu4VXZfi",
        "outputId": "4c492946-6ecd-4f93-b7b8-d0c5b9518702",
        "colab": {
          "base_uri": "https://localhost:8080/"
        }
      },
      "outputs": [
        {
          "output_type": "stream",
          "name": "stdout",
          "text": [
            "The best parameters are {'C': 0.1, 'gamma': 10.0} with a score of 0.97\n"
          ]
        }
      ],
      "source": [
        "# redo grid search on scaled features\n",
        "\n",
        "# polynomial kernel\n",
        "gridPoly2 = GridSearchCV(SVC(kernel='poly'), param_grid=param_grid, cv=cv)\n",
        "gridPoly2.fit(X_train_scaled, y_train)\n",
        "\n",
        "print(\"The best parameters are %s with a score of %0.2f\"\n",
        "      % (gridPoly2.best_params_, gridPoly2.best_score_))"
      ]
    },
    {
      "cell_type": "code",
      "execution_count": null,
      "metadata": {
        "id": "G32wozs1XZfi",
        "outputId": "a81657cc-ba52-4b93-d6e1-29f6381b7941",
        "colab": {
          "base_uri": "https://localhost:8080/"
        }
      },
      "outputs": [
        {
          "output_type": "stream",
          "name": "stdout",
          "text": [
            "Scaled Features\n",
            "Accuracy on training set: 0.633\n",
            "Accuracy on test set: 0.700\n",
            "\n",
            "Scaled Features\n",
            "Accuracy on training set: 0.983\n",
            "Accuracy on test set: 1.000\n"
          ]
        }
      ],
      "source": [
        "print('Scaled Features')\n",
        "print(\"Accuracy on training set: {:.3f}\".format(\n",
        "        svmPolyScaled.score(X_train_scaled, y_train)))\n",
        "print(\"Accuracy on test set: {:.3f}\\n\".format(svmPolyScaled.score(X_test_scaled, y_test)))\n",
        "\n",
        "svmPolyScaled2 = SVC(kernel='poly', C=0.1, gamma=10).fit(X_train_scaled, y_train)\n",
        "\n",
        "print('Scaled Features')\n",
        "print(\"Accuracy on training set: {:.3f}\".format(\n",
        "        svmPolyScaled2.score(X_train_scaled, y_train)))\n",
        "print(\"Accuracy on test set: {:.3f}\".format(svmPolyScaled2.score(X_test_scaled, y_test)))"
      ]
    },
    {
      "cell_type": "code",
      "execution_count": null,
      "metadata": {
        "id": "GZR2LH18XZfi",
        "outputId": "3822fc25-6f2d-4d43-b8d2-5fe96ea09285",
        "colab": {
          "base_uri": "https://localhost:8080/"
        }
      },
      "outputs": [
        {
          "output_type": "stream",
          "name": "stdout",
          "text": [
            "The best parameters are {'C': 10000000.0, 'gamma': 1e-06} with a score of 0.98\n"
          ]
        }
      ],
      "source": [
        "#rbf kernel\n",
        "gridRBF2 = GridSearchCV(SVC(kernel='rbf'), param_grid=param_grid, cv=cv)\n",
        "gridRBF2.fit(X_train_scaled, y_train)\n",
        "\n",
        "print(\"The best parameters are %s with a score of %0.2f\"\n",
        "      % (gridRBF2.best_params_, gridRBF2.best_score_))"
      ]
    },
    {
      "cell_type": "code",
      "execution_count": null,
      "metadata": {
        "id": "m2DHUipQXZfi",
        "outputId": "7f30d7a3-d2bc-4ac1-e3ab-64a79691f3f8",
        "colab": {
          "base_uri": "https://localhost:8080/"
        }
      },
      "outputs": [
        {
          "output_type": "stream",
          "name": "stdout",
          "text": [
            "Scaled Features\n",
            "Accuracy on training set: 0.958\n",
            "Accuracy on test set: 0.900\n",
            "\n",
            "Scaled Features\n",
            "Accuracy on training set: 0.967\n",
            "Accuracy on test set: 1.000\n"
          ]
        }
      ],
      "source": [
        "print('Scaled Features')\n",
        "print(\"Accuracy on training set: {:.3f}\".format(\n",
        "        svmRBFscaled.score(X_train_scaled, y_train)))\n",
        "print(\"Accuracy on test set: {:.3f}\\n\".format(svmRBFscaled.score(X_test_scaled, y_test)))\n",
        "\n",
        "svmRBFscaled2 = SVC(kernel='rbf', C=10000000.0, gamma=1e-06, probability=True).fit(X_train_scaled, y_train)\n",
        "\n",
        "print('Scaled Features')\n",
        "print(\"Accuracy on training set: {:.3f}\".format(\n",
        "        svmRBFscaled2.score(X_train_scaled, y_train)))\n",
        "print(\"Accuracy on test set: {:.3f}\".format(svmRBFscaled2.score(X_test_scaled, y_test)))"
      ]
    },
    {
      "cell_type": "markdown",
      "metadata": {
        "id": "WWfDKILGXZfi"
      },
      "source": [
        "# Uncertainty estimates from classifiers"
      ]
    },
    {
      "cell_type": "code",
      "execution_count": null,
      "metadata": {
        "scrolled": true,
        "id": "NFrUWwH0XZfi",
        "outputId": "464a781c-4d64-41c7-f2a5-917bf63a3545",
        "colab": {
          "base_uri": "https://localhost:8080/"
        }
      },
      "outputs": [
        {
          "output_type": "stream",
          "name": "stdout",
          "text": [
            "Thresholded decision function:\n",
            " [[ True False False]\n",
            " [False False  True]\n",
            " [False  True False]\n",
            " [False  True False]\n",
            " [ True False False]\n",
            " [False  True False]\n",
            " [ True False False]\n",
            " [ True False False]\n",
            " [False False  True]\n",
            " [False  True False]\n",
            " [False False  True]\n",
            " [False False  True]\n",
            " [False False  True]\n",
            " [False  True False]\n",
            " [ True False False]\n",
            " [ True False False]\n",
            " [ True False False]\n",
            " [False  True False]\n",
            " [False  True False]\n",
            " [False False  True]\n",
            " [ True False False]\n",
            " [False False  True]\n",
            " [False  True False]\n",
            " [False False  True]\n",
            " [False False  True]\n",
            " [False  True False]\n",
            " [False  True False]\n",
            " [ True False False]\n",
            " [False False  True]\n",
            " [ True False False]]\n",
            "Predictions:\n",
            " [0 2 1 1 0 1 0 0 2 1 2 2 2 1 0 0 0 1 1 2 0 2 1 2 2 1 1 0 2 0]\n"
          ]
        }
      ],
      "source": [
        "print(\"Thresholded decision function:\\n\",\n",
        "      svmRBFscaled2.decision_function(X_test_scaled) > 1.5)\n",
        "print(\"Predictions:\\n\", svmRBFscaled2.predict(X_test_scaled))"
      ]
    },
    {
      "cell_type": "code",
      "execution_count": null,
      "metadata": {
        "id": "ItwUgIdsXZfi",
        "outputId": "d2af6fbb-8b41-4cad-f492-0f63b83165a3",
        "colab": {
          "base_uri": "https://localhost:8080/"
        }
      },
      "outputs": [
        {
          "output_type": "stream",
          "name": "stdout",
          "text": [
            "Decision function minimum: -0.31 maximum: 2.28\n"
          ]
        }
      ],
      "source": [
        "decision_function = svmRBFscaled2.decision_function(X_test_scaled)\n",
        "print(\"Decision function minimum: {:.2f} maximum: {:.2f}\".format(\n",
        "      np.min(decision_function), np.max(decision_function)))"
      ]
    },
    {
      "cell_type": "code",
      "execution_count": null,
      "metadata": {
        "id": "DyqHtUAdXZfj",
        "outputId": "c851bc50-a01d-4286-c5c1-5698183a6e6a",
        "colab": {
          "base_uri": "https://localhost:8080/"
        }
      },
      "outputs": [
        {
          "output_type": "stream",
          "name": "stdout",
          "text": [
            "Decision function shape: (30, 3)\n",
            "Decision function:\n",
            "[[ 2.24845914  1.29714452 -0.30587212]\n",
            " [-0.26570613  1.24038237  2.19105727]\n",
            " [-0.17271757  2.2752294   0.7381744 ]\n",
            " [-0.18126427  2.27605552  0.7386982 ]\n",
            " [ 2.2520304   1.2972791  -0.30633234]\n",
            " [-0.25287042  2.25912813  0.91369871]]\n"
          ]
        }
      ],
      "source": [
        "print(\"Decision function shape:\", svmRBFscaled2.decision_function(X_test_scaled).shape)\n",
        "# plot the first few entries of the decision function\n",
        "print(\"Decision function:\")\n",
        "print(svmRBFscaled2.decision_function(X_test_scaled)[:6, :])"
      ]
    },
    {
      "cell_type": "code",
      "execution_count": null,
      "metadata": {
        "id": "QhG8LY4XXZfj",
        "outputId": "b171beb9-71e9-4e51-b424-510587c57fa8",
        "colab": {
          "base_uri": "https://localhost:8080/"
        }
      },
      "outputs": [
        {
          "output_type": "stream",
          "name": "stdout",
          "text": [
            "Argmax of decision function:\n",
            "[0 2 1 1 0 1 0 0 2 1 2 2 2 1 0 0 0 1 1 2 0 2 1 2 2 1 1 0 2 0]\n",
            "Predictions:\n",
            "[0 2 1 1 0 1 0 0 2 1 2 2 2 1 0 0 0 1 1 2 0 2 1 2 2 1 1 0 2 0]\n"
          ]
        }
      ],
      "source": [
        "print(\"Argmax of decision function:\")\n",
        "print(np.argmax(svmRBFscaled2.decision_function(X_test_scaled), axis=1))\n",
        "print(\"Predictions:\")\n",
        "print(svmRBFscaled2.predict(X_test_scaled))"
      ]
    },
    {
      "cell_type": "code",
      "execution_count": null,
      "metadata": {
        "id": "IPElnGdYXZfj",
        "outputId": "f75d84f9-24a3-438c-905b-d1d995dae5c7",
        "colab": {
          "base_uri": "https://localhost:8080/"
        }
      },
      "outputs": [
        {
          "output_type": "stream",
          "name": "stdout",
          "text": [
            "Shape of probabilities: (30, 3)\n",
            "Predicted probabilities:\n",
            "[[0.97113572 0.01747962 0.01138466]\n",
            " [0.01829395 0.31454475 0.6671613 ]\n",
            " [0.09105923 0.8852293  0.02371147]\n",
            " [0.07492981 0.90489778 0.02017241]\n",
            " [0.97688539 0.01326638 0.00984823]\n",
            " [0.01273406 0.79906333 0.1882026 ]]\n",
            "Sums: [1. 1. 1. 1. 1. 1.]\n"
          ]
        }
      ],
      "source": [
        "# Predicting Probabilities\n",
        "print(\"Shape of probabilities:\", svmRBFscaled2.predict_proba(X_test_scaled).shape)\n",
        "# show the first few entries of predict_proba\n",
        "print(\"Predicted probabilities:\")\n",
        "print(svmRBFscaled2.predict_proba(X_test_scaled)[:6])\n",
        "# show that sums across rows are one\n",
        "print(\"Sums:\", svmRBFscaled2.predict_proba(X_test_scaled)[:6].sum(axis=1))"
      ]
    },
    {
      "cell_type": "code",
      "execution_count": null,
      "metadata": {
        "id": "m0SM_pmOXZfj",
        "outputId": "33652c74-85bc-44de-dcf7-7b7d7b5976db",
        "colab": {
          "base_uri": "https://localhost:8080/"
        }
      },
      "outputs": [
        {
          "output_type": "stream",
          "name": "stdout",
          "text": [
            "Argmax of predicted probabilities:\n",
            "[0 2 1 1 0 1 0 0 2 1 2 2 2 1 0 0 0 1 1 2 0 2 1 2 2 1 1 0 2 0]\n",
            "Predictions:\n",
            "[0 2 1 1 0 1 0 0 2 1 2 2 2 1 0 0 0 1 1 2 0 2 1 2 2 1 1 0 2 0]\n"
          ]
        }
      ],
      "source": [
        "print(\"Argmax of predicted probabilities:\")\n",
        "print(np.argmax(svmRBFscaled2.predict_proba(X_test_scaled), axis=1))\n",
        "print(\"Predictions:\")\n",
        "print(svmRBFscaled2.predict(X_test_scaled))"
      ]
    }
  ],
  "metadata": {
    "kernelspec": {
      "display_name": "Python 3",
      "language": "python",
      "name": "python3"
    },
    "language_info": {
      "codemirror_mode": {
        "name": "ipython",
        "version": 3
      },
      "file_extension": ".py",
      "mimetype": "text/x-python",
      "name": "python",
      "nbconvert_exporter": "python",
      "pygments_lexer": "ipython3",
      "version": "3.6.13"
    },
    "colab": {
      "provenance": [],
      "include_colab_link": true
    }
  },
  "nbformat": 4,
  "nbformat_minor": 0
}