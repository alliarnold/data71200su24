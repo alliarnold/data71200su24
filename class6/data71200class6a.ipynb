{
  "cells": [
    {
      "cell_type": "markdown",
      "metadata": {
        "id": "view-in-github",
        "colab_type": "text"
      },
      "source": [
        "<a href=\"https://colab.research.google.com/github/jcdevaney/data71200su24/blob/main/class6/data71200class6a.ipynb\" target=\"_parent\"><img src=\"https://colab.research.google.com/assets/colab-badge.svg\" alt=\"Open In Colab\"/></a>"
      ]
    },
    {
      "cell_type": "code",
      "execution_count": null,
      "metadata": {
        "id": "Ru5SKocjXTsJ",
        "outputId": "32f758af-e80f-4a0d-97b7-e8431054fe26",
        "colab": {
          "base_uri": "https://localhost:8080/"
        }
      },
      "outputs": [
        {
          "output_type": "stream",
          "name": "stdout",
          "text": [
            "Requirement already satisfied: mglearn in /usr/local/lib/python3.10/dist-packages (0.2.0)\n",
            "Requirement already satisfied: numpy in /usr/local/lib/python3.10/dist-packages (from mglearn) (1.25.2)\n",
            "Requirement already satisfied: matplotlib in /usr/local/lib/python3.10/dist-packages (from mglearn) (3.7.1)\n",
            "Requirement already satisfied: scikit-learn in /usr/local/lib/python3.10/dist-packages (from mglearn) (1.2.2)\n",
            "Requirement already satisfied: pandas in /usr/local/lib/python3.10/dist-packages (from mglearn) (2.0.3)\n",
            "Requirement already satisfied: pillow in /usr/local/lib/python3.10/dist-packages (from mglearn) (9.4.0)\n",
            "Requirement already satisfied: cycler in /usr/local/lib/python3.10/dist-packages (from mglearn) (0.12.1)\n",
            "Requirement already satisfied: imageio in /usr/local/lib/python3.10/dist-packages (from mglearn) (2.31.6)\n",
            "Requirement already satisfied: joblib in /usr/local/lib/python3.10/dist-packages (from mglearn) (1.4.2)\n",
            "Requirement already satisfied: contourpy>=1.0.1 in /usr/local/lib/python3.10/dist-packages (from matplotlib->mglearn) (1.2.1)\n",
            "Requirement already satisfied: fonttools>=4.22.0 in /usr/local/lib/python3.10/dist-packages (from matplotlib->mglearn) (4.53.0)\n",
            "Requirement already satisfied: kiwisolver>=1.0.1 in /usr/local/lib/python3.10/dist-packages (from matplotlib->mglearn) (1.4.5)\n",
            "Requirement already satisfied: packaging>=20.0 in /usr/local/lib/python3.10/dist-packages (from matplotlib->mglearn) (24.1)\n",
            "Requirement already satisfied: pyparsing>=2.3.1 in /usr/local/lib/python3.10/dist-packages (from matplotlib->mglearn) (3.1.2)\n",
            "Requirement already satisfied: python-dateutil>=2.7 in /usr/local/lib/python3.10/dist-packages (from matplotlib->mglearn) (2.8.2)\n",
            "Requirement already satisfied: pytz>=2020.1 in /usr/local/lib/python3.10/dist-packages (from pandas->mglearn) (2023.4)\n",
            "Requirement already satisfied: tzdata>=2022.1 in /usr/local/lib/python3.10/dist-packages (from pandas->mglearn) (2024.1)\n",
            "Requirement already satisfied: scipy>=1.3.2 in /usr/local/lib/python3.10/dist-packages (from scikit-learn->mglearn) (1.11.4)\n",
            "Requirement already satisfied: threadpoolctl>=2.0.0 in /usr/local/lib/python3.10/dist-packages (from scikit-learn->mglearn) (3.5.0)\n",
            "Requirement already satisfied: six>=1.5 in /usr/local/lib/python3.10/dist-packages (from python-dateutil>=2.7->matplotlib->mglearn) (1.16.0)\n"
          ]
        }
      ],
      "source": [
        "%matplotlib inline\n",
        "import matplotlib.pyplot as plt\n",
        "import numpy as np\n",
        "import pandas as pd\n",
        "\n",
        "import warnings\n",
        "warnings.filterwarnings('ignore')\n",
        "\n",
        "import six\n",
        "import joblib\n",
        "import sys\n",
        "sys.modules['sklearn.externals.six'] = six\n",
        "sys.modules['sklearn.externals.joblib'] = joblib\n",
        "!pip install mglearn\n",
        "import mglearn"
      ]
    },
    {
      "cell_type": "markdown",
      "metadata": {
        "id": "OkYHTOh9XTsL"
      },
      "source": [
        "# Naive Bayes"
      ]
    },
    {
      "cell_type": "markdown",
      "metadata": {
        "id": "6XqUbaGGXTsL"
      },
      "source": [
        "## Classification"
      ]
    },
    {
      "cell_type": "code",
      "execution_count": null,
      "metadata": {
        "id": "4n67rRFpXTsL",
        "outputId": "be6f2f75-9b07-4240-9611-6c659b9b201a",
        "colab": {
          "base_uri": "https://localhost:8080/"
        }
      },
      "outputs": [
        {
          "output_type": "stream",
          "name": "stdout",
          "text": [
            "Training set score: 0.95\n",
            "Test set score: 0.95\n"
          ]
        }
      ],
      "source": [
        "# https://scikit-learn.org/stable/modules/naive_bayes.html\n",
        "\n",
        "from sklearn.datasets import load_iris\n",
        "from sklearn.model_selection import train_test_split\n",
        "from sklearn.naive_bayes import GaussianNB\n",
        "\n",
        "iris = load_iris()\n",
        "X_train, X_test, y_train, y_test = train_test_split(iris.data, iris.target, stratify=iris.target, test_size=0.5, random_state=0)\n",
        "\n",
        "gnb = GaussianNB()\n",
        "gnb.fit(X_train, y_train)\n",
        "\n",
        "print(\"Training set score: {:.2f}\".format(gnb.score(X_train, y_train)))\n",
        "print(\"Test set score: {:.2f}\".format(gnb.score(X_test, y_test)))"
      ]
    },
    {
      "cell_type": "code",
      "execution_count": null,
      "metadata": {
        "id": "ZOvfsSukXTsM",
        "outputId": "89cda11e-1ba9-4f59-c502-e94ad11838fc",
        "colab": {
          "base_uri": "https://localhost:8080/"
        }
      },
      "outputs": [
        {
          "output_type": "stream",
          "name": "stdout",
          "text": [
            "              precision    recall  f1-score   support\n",
            "\n",
            "     class 1       1.00      1.00      1.00        25\n",
            "     class 2       0.92      0.92      0.92        25\n",
            "     class 3       0.92      0.92      0.92        25\n",
            "\n",
            "    accuracy                           0.95        75\n",
            "   macro avg       0.95      0.95      0.95        75\n",
            "weighted avg       0.95      0.95      0.95        75\n",
            "\n"
          ]
        }
      ],
      "source": [
        "from sklearn.metrics import classification_report\n",
        "\n",
        "print(classification_report(y_test, gnb.predict(X_test),\n",
        "                            target_names=[\"class 1\", \"class 2\",\"class 3\"]))"
      ]
    },
    {
      "cell_type": "markdown",
      "metadata": {
        "id": "_qJliL_4XTsM"
      },
      "source": [
        "# Decision Trees"
      ]
    },
    {
      "cell_type": "markdown",
      "metadata": {
        "id": "wy9SDogZXTsM"
      },
      "source": [
        "## Classification"
      ]
    },
    {
      "cell_type": "code",
      "execution_count": null,
      "metadata": {
        "id": "oQ1-2oHZXTsM",
        "outputId": "fe5d1002-1317-4d76-ce2f-9b17f8846a52",
        "colab": {
          "base_uri": "https://localhost:8080/"
        }
      },
      "outputs": [
        {
          "output_type": "stream",
          "name": "stdout",
          "text": [
            "Accuracy on training set: 1.000\n",
            "Accuracy on test set: 0.893\n",
            "              precision    recall  f1-score   support\n",
            "\n",
            "     class 1       1.00      1.00      1.00        25\n",
            "     class 2       0.87      0.80      0.83        25\n",
            "     class 3       0.81      0.88      0.85        25\n",
            "\n",
            "    accuracy                           0.89        75\n",
            "   macro avg       0.89      0.89      0.89        75\n",
            "weighted avg       0.89      0.89      0.89        75\n",
            "\n"
          ]
        }
      ],
      "source": [
        "from sklearn.tree import DecisionTreeClassifier\n",
        "\n",
        "tree = DecisionTreeClassifier(random_state=0)\n",
        "tree.fit(X_train, y_train)\n",
        "\n",
        "print(\"Accuracy on training set: {:.3f}\".format(tree.score(X_train, y_train)))\n",
        "print(\"Accuracy on test set: {:.3f}\".format(tree.score(X_test, y_test)))\n",
        "print(classification_report(y_test, tree.predict(X_test),\n",
        "                            target_names=[\"class 1\", \"class 2\",\"class 3\"]))"
      ]
    },
    {
      "cell_type": "code",
      "execution_count": null,
      "metadata": {
        "id": "Y7jZrDwsXTsM",
        "outputId": "cfdf82ea-9336-4fac-efd3-c09579dc9c58",
        "colab": {
          "base_uri": "https://localhost:8080/"
        }
      },
      "outputs": [
        {
          "output_type": "stream",
          "name": "stdout",
          "text": [
            "Feature importances:\n",
            "[0.         0.03846154 0.         0.96153846]\n"
          ]
        }
      ],
      "source": [
        "print(\"Feature importances:\")\n",
        "print(tree.feature_importances_)"
      ]
    },
    {
      "cell_type": "code",
      "execution_count": null,
      "metadata": {
        "id": "NlbDzZ5nXTsM",
        "outputId": "d7e06c0e-955e-4a19-cc8f-47d07d08c025",
        "colab": {
          "base_uri": "https://localhost:8080/",
          "height": 449
        }
      },
      "outputs": [
        {
          "output_type": "display_data",
          "data": {
            "text/plain": [
              "<Figure size 640x480 with 1 Axes>"
            ],
            "image/png": "[encoded data removed]"
          },
          "metadata": {}
        }
      ],
      "source": [
        "def plot_feature_importances_iris(model):\n",
        "    n_features = iris.data.shape[1]\n",
        "    plt.barh(np.arange(n_features), model.feature_importances_, align='center')\n",
        "    plt.yticks(np.arange(n_features), iris.feature_names)\n",
        "    plt.xlabel(\"Feature importance\")\n",
        "    plt.ylabel(\"Feature\")\n",
        "    plt.ylim(-1, n_features)\n",
        "\n",
        "plot_feature_importances_iris(tree)"
      ]
    },
    {
      "cell_type": "code",
      "execution_count": null,
      "metadata": {
        "id": "eGSDB5oJXTsN",
        "outputId": "67b983bd-0fee-49ff-bdaa-5d64a649d8e6",
        "colab": {
          "base_uri": "https://localhost:8080/"
        }
      },
      "outputs": [
        {
          "output_type": "stream",
          "name": "stdout",
          "text": [
            "Accuracy on training set: 0.987\n",
            "Accuracy on test set: 0.933\n",
            "              precision    recall  f1-score   support\n",
            "\n",
            "     class 1       1.00      1.00      1.00        25\n",
            "     class 2       0.88      0.92      0.90        25\n",
            "     class 3       0.92      0.88      0.90        25\n",
            "\n",
            "    accuracy                           0.93        75\n",
            "   macro avg       0.93      0.93      0.93        75\n",
            "weighted avg       0.93      0.93      0.93        75\n",
            "\n"
          ]
        }
      ],
      "source": [
        "tree = DecisionTreeClassifier(max_depth=2, random_state=0)\n",
        "tree.fit(X_train, y_train)\n",
        "\n",
        "print(\"Accuracy on training set: {:.3f}\".format(tree.score(X_train, y_train)))\n",
        "print(\"Accuracy on test set: {:.3f}\".format(tree.score(X_test, y_test)))\n",
        "print(classification_report(y_test, tree.predict(X_test),\n",
        "                            target_names=[\"class 1\", \"class 2\",\"class 3\"]))"
      ]
    },
    {
      "cell_type": "code",
      "execution_count": null,
      "metadata": {
        "id": "YHE-UIEeXTsN",
        "outputId": "14340a88-8f26-4e49-f9a3-fd63da8d217d",
        "colab": {
          "base_uri": "https://localhost:8080/"
        }
      },
      "outputs": [
        {
          "output_type": "stream",
          "name": "stdout",
          "text": [
            "Feature importances:\n",
            "[0. 0. 0. 1.]\n"
          ]
        }
      ],
      "source": [
        "print(\"Feature importances:\")\n",
        "print(tree.feature_importances_)"
      ]
    },
    {
      "cell_type": "code",
      "execution_count": null,
      "metadata": {
        "id": "QJ3bEIa_XTsN",
        "outputId": "8725c3e7-4792-464e-aa46-7af0cf60a2be",
        "colab": {
          "base_uri": "https://localhost:8080/",
          "height": 449
        }
      },
      "outputs": [
        {
          "output_type": "display_data",
          "data": {
            "text/plain": [
              "<Figure size 640x480 with 1 Axes>"
            ],
            "image/png": "[encoded data removed]"
          },
          "metadata": {}
        }
      ],
      "source": [
        "def plot_feature_importances_cancer(model):\n",
        "    n_features = iris.data.shape[1]\n",
        "    plt.barh(np.arange(n_features), model.feature_importances_, align='center')\n",
        "    plt.yticks(np.arange(n_features), iris.feature_names)\n",
        "    plt.xlabel(\"Feature importance\")\n",
        "    plt.ylabel(\"Feature\")\n",
        "    plt.ylim(-1, n_features)\n",
        "\n",
        "plot_feature_importances_cancer(tree)"
      ]
    },
    {
      "cell_type": "markdown",
      "metadata": {
        "id": "21w_Jh5aXTsN"
      },
      "source": [
        "## Regression"
      ]
    },
    {
      "cell_type": "code",
      "execution_count": null,
      "metadata": {
        "id": "EUk-ZE93XTsN",
        "outputId": "524d55cb-6b25-443f-b4cc-58abd707fb03",
        "colab": {
          "base_uri": "https://localhost:8080/"
        }
      },
      "outputs": [
        {
          "output_type": "stream",
          "name": "stdout",
          "text": [
            "Decision Tree R^2: 0.63\n",
            "Linear Regression R^2: 0.61\n"
          ]
        }
      ],
      "source": [
        "from sklearn.tree import DecisionTreeRegressor\n",
        "from sklearn.linear_model import LinearRegression\n",
        "\n",
        "Xreg, yreg = mglearn.datasets.load_extended_boston()\n",
        "\n",
        "Xreg_train, Xreg_test, yreg_train, yreg_test = train_test_split(Xreg, yreg, random_state=0)\n",
        "\n",
        "tree = DecisionTreeRegressor(max_depth=3).fit(Xreg_train, yreg_train)\n",
        "linear_reg = LinearRegression().fit(Xreg_train, yreg_train)\n",
        "\n",
        "print(\"Decision Tree R^2: {:.2f}\".format(tree.score(Xreg_test, yreg_test)))\n",
        "print(\"Linear Regression R^2: {:.2f}\".format(linear_reg.score(Xreg_test, yreg_test)))"
      ]
    },
    {
      "cell_type": "code",
      "execution_count": null,
      "metadata": {
        "id": "X1TJ2PXoXTsN",
        "outputId": "cf35116d-21d9-4c3f-a674-2157bb2e5b22",
        "colab": {
          "base_uri": "https://localhost:8080/"
        }
      },
      "outputs": [
        {
          "output_type": "stream",
          "name": "stdout",
          "text": [
            "Decision Tree RMSE: 29.91\n",
            "Linear Regression RMSE: 32.07\n"
          ]
        }
      ],
      "source": [
        "from sklearn.metrics import mean_squared_error\n",
        "\n",
        "print(\"Decision Tree RMSE: {:.2f}\".format(mean_squared_error(yreg_test, tree.predict(Xreg_test))))\n",
        "print(\"Linear Regression RMSE: {:.2f}\".format(mean_squared_error(yreg_test, linear_reg.predict(Xreg_test))))"
      ]
    },
    {
      "cell_type": "markdown",
      "metadata": {
        "id": "siHFgqL_XTsN"
      },
      "source": [
        "# Random Forests"
      ]
    },
    {
      "cell_type": "markdown",
      "metadata": {
        "id": "-ZV_v0NVXTsN"
      },
      "source": [
        "## Classification"
      ]
    },
    {
      "cell_type": "code",
      "execution_count": null,
      "metadata": {
        "id": "gQBlEA2PXTsN",
        "outputId": "5413f36f-50bb-40a8-a9e6-4fa486c0c228",
        "colab": {
          "base_uri": "https://localhost:8080/"
        }
      },
      "outputs": [
        {
          "output_type": "stream",
          "name": "stdout",
          "text": [
            "Accuracy on training set: 1.000\n",
            "Accuracy on test set: 0.933\n"
          ]
        }
      ],
      "source": [
        "# https://scikit-learn.org/stable/modules/generated/sklearn.ensemble.RandomForestClassifier.html\n",
        "\n",
        "from sklearn.ensemble import RandomForestClassifier\n",
        "from sklearn.datasets import make_moons\n",
        "\n",
        "forest = RandomForestClassifier(n_estimators=5, random_state=2)\n",
        "forest.fit(X_train, y_train)\n",
        "\n",
        "print(\"Accuracy on training set: {:.3f}\".format(forest.score(X_train, y_train)))\n",
        "print(\"Accuracy on test set: {:.3f}\".format(forest.score(X_test, y_test)))"
      ]
    },
    {
      "cell_type": "code",
      "execution_count": null,
      "metadata": {
        "id": "yqnrECoaXTsN",
        "outputId": "080e93ed-7202-474e-fa34-b890212b4b33",
        "colab": {
          "base_uri": "https://localhost:8080/"
        }
      },
      "outputs": [
        {
          "output_type": "stream",
          "name": "stdout",
          "text": [
            "Accuracy on training set: 0.947\n",
            "Accuracy on test set: 0.973\n"
          ]
        }
      ],
      "source": [
        "forest = RandomForestClassifier(n_estimators=5, random_state=2, max_depth=1)\n",
        "forest.fit(X_train, y_train)\n",
        "\n",
        "print(\"Accuracy on training set: {:.3f}\".format(forest.score(X_train, y_train)))\n",
        "print(\"Accuracy on test set: {:.3f}\".format(forest.score(X_test, y_test)))"
      ]
    },
    {
      "cell_type": "code",
      "execution_count": null,
      "metadata": {
        "id": "eow6wnD5XTsN",
        "outputId": "db83baa2-f377-43f2-b47f-1a8bb2efd505",
        "colab": {
          "base_uri": "https://localhost:8080/"
        }
      },
      "outputs": [
        {
          "output_type": "stream",
          "name": "stdout",
          "text": [
            "Accuracy on training set: 1.000\n",
            "Accuracy on test set: 0.960\n"
          ]
        }
      ],
      "source": [
        "forest = RandomForestClassifier(n_estimators=5, random_state=2, max_features=1)\n",
        "forest.fit(X_train, y_train)\n",
        "\n",
        "print(\"Accuracy on training set: {:.3f}\".format(forest.score(X_train, y_train)))\n",
        "print(\"Accuracy on test set: {:.3f}\".format(forest.score(X_test, y_test)))"
      ]
    },
    {
      "cell_type": "code",
      "execution_count": null,
      "metadata": {
        "id": "VghU-VIXXTsO",
        "outputId": "242d2558-9d9c-4f09-b91a-fa20280d664a",
        "colab": {
          "base_uri": "https://localhost:8080/",
          "height": 449
        }
      },
      "outputs": [
        {
          "output_type": "display_data",
          "data": {
            "text/plain": [
              "<Figure size 640x480 with 1 Axes>"
            ],
            "image/png": "[encoded data removed]"
          },
          "metadata": {}
        }
      ],
      "source": [
        "plot_feature_importances_iris(forest)"
      ]
    },
    {
      "cell_type": "markdown",
      "metadata": {
        "id": "cSaALXFuXTsO"
      },
      "source": [
        "# Gradient Boosted Decision Trees"
      ]
    },
    {
      "cell_type": "markdown",
      "metadata": {
        "id": "CH0UpvH_XTsO"
      },
      "source": [
        "## Classification"
      ]
    },
    {
      "cell_type": "code",
      "execution_count": null,
      "metadata": {
        "id": "VEkt8v-3XTsO",
        "outputId": "a70bbf5a-dafe-445d-f1ff-b9368526d5e0",
        "colab": {
          "base_uri": "https://localhost:8080/"
        }
      },
      "outputs": [
        {
          "output_type": "stream",
          "name": "stdout",
          "text": [
            "Accuracy on training set: 1.000\n",
            "Accuracy on test set: 0.893\n"
          ]
        }
      ],
      "source": [
        "# https://scikit-learn.org/stable/modules/generated/sklearn.ensemble.GradientBoostingClassifier.html\n",
        "\n",
        "from sklearn.ensemble import GradientBoostingClassifier\n",
        "\n",
        "gbrt = GradientBoostingClassifier(n_estimators=100, random_state=0)\n",
        "gbrt.fit(X_train, y_train)\n",
        "\n",
        "print(\"Accuracy on training set: {:.3f}\".format(gbrt.score(X_train, y_train)))\n",
        "print(\"Accuracy on test set: {:.3f}\".format(gbrt.score(X_test, y_test)))"
      ]
    },
    {
      "cell_type": "code",
      "execution_count": null,
      "metadata": {
        "id": "-v6RcwV7XTsO",
        "outputId": "c0f8ef8c-e727-4aa3-99c5-506f4910d1ed",
        "colab": {
          "base_uri": "https://localhost:8080/"
        }
      },
      "outputs": [
        {
          "output_type": "stream",
          "name": "stdout",
          "text": [
            "Accuracy on training set: 1.000\n",
            "Accuracy on test set: 0.893\n"
          ]
        }
      ],
      "source": [
        "gbrt = GradientBoostingClassifier(random_state=0, max_depth=1)\n",
        "gbrt.fit(X_train, y_train)\n",
        "\n",
        "print(\"Accuracy on training set: {:.3f}\".format(gbrt.score(X_train, y_train)))\n",
        "print(\"Accuracy on test set: {:.3f}\".format(gbrt.score(X_test, y_test)))"
      ]
    },
    {
      "cell_type": "code",
      "execution_count": null,
      "metadata": {
        "id": "waRvASejXTsO",
        "outputId": "9a7dd9d8-6e81-44ec-c570-f798abc397b3",
        "colab": {
          "base_uri": "https://localhost:8080/"
        }
      },
      "outputs": [
        {
          "output_type": "stream",
          "name": "stdout",
          "text": [
            "Accuracy on training set: 1.000\n",
            "Accuracy on test set: 0.893\n"
          ]
        }
      ],
      "source": [
        "gbrt = GradientBoostingClassifier(n_estimators=10,random_state=0, learning_rate=0.9)\n",
        "gbrt.fit(X_train, y_train)\n",
        "\n",
        "print(\"Accuracy on training set: {:.3f}\".format(gbrt.score(X_train, y_train)))\n",
        "print(\"Accuracy on test set: {:.3f}\".format(gbrt.score(X_test, y_test)))"
      ]
    },
    {
      "cell_type": "code",
      "execution_count": null,
      "metadata": {
        "id": "4aHbkV4UXTsO",
        "outputId": "a91f1abe-5f4a-4ca6-9483-e427bdb2dc84",
        "colab": {
          "base_uri": "https://localhost:8080/",
          "height": 449
        }
      },
      "outputs": [
        {
          "output_type": "display_data",
          "data": {
            "text/plain": [
              "<Figure size 640x480 with 1 Axes>"
            ],
            "image/png": "[encoded data removed]"
          },
          "metadata": {}
        }
      ],
      "source": [
        "plot_feature_importances_iris(gbrt)"
      ]
    }
  ],
  "metadata": {
    "kernelspec": {
      "display_name": "Python 3",
      "language": "python",
      "name": "python3"
    },
    "language_info": {
      "codemirror_mode": {
        "name": "ipython",
        "version": 3
      },
      "file_extension": ".py",
      "mimetype": "text/x-python",
      "name": "python",
      "nbconvert_exporter": "python",
      "pygments_lexer": "ipython3",
      "version": "3.6.13"
    },
    "colab": {
      "provenance": [],
      "include_colab_link": true
    }
  },
  "nbformat": 4,
  "nbformat_minor": 0
}